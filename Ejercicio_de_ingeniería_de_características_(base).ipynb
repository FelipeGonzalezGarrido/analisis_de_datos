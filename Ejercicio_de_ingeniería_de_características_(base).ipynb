{
  "nbformat": 4,
  "nbformat_minor": 0,
  "metadata": {
    "colab": {
      "provenance": [],
      "authorship_tag": "ABX9TyO26+JbcypPCYqBf+fbxD8E",
      "include_colab_link": true
    },
    "kernelspec": {
      "name": "python3",
      "display_name": "Python 3"
    },
    "language_info": {
      "name": "python"
    }
  },
  "cells": [
    {
      "cell_type": "markdown",
      "metadata": {
        "id": "view-in-github",
        "colab_type": "text"
      },
      "source": [
        "<a href=\"https://colab.research.google.com/github/FelipeGonzalezGarrido/predicciones-de-ventas/blob/main/Ejercicio_de_ingenier%C3%ADa_de_caracter%C3%ADsticas_(base).ipynb\" target=\"_parent\"><img src=\"https://colab.research.google.com/assets/colab-badge.svg\" alt=\"Open In Colab\"/></a>"
      ]
    },
    {
      "cell_type": "code",
      "execution_count": 105,
      "metadata": {
        "colab": {
          "base_uri": "https://localhost:8080/"
        },
        "id": "zYn1pWMxlib9",
        "outputId": "154f2402-03d1-444e-f1c6-b6b4acf34a27"
      },
      "outputs": [
        {
          "output_type": "stream",
          "name": "stdout",
          "text": [
            "Drive already mounted at /content/drive; to attempt to forcibly remount, call drive.mount(\"/content/drive\", force_remount=True).\n"
          ]
        }
      ],
      "source": [
        "from google.colab import drive\n",
        "drive.mount (\"/content/drive\")"
      ]
    },
    {
      "cell_type": "code",
      "source": [
        "import pandas as pd"
      ],
      "metadata": {
        "id": "odi5dzexpgJL"
      },
      "execution_count": 106,
      "outputs": []
    },
    {
      "cell_type": "code",
      "source": [
        "filename = \"/content/drive/MyDrive/Data CodingDojo/bikeshare_train - bikeshare_train.csv\"\n",
        "df = pd.read_csv(filename)\n",
        "df.head()"
      ],
      "metadata": {
        "colab": {
          "base_uri": "https://localhost:8080/",
          "height": 206
        },
        "id": "DYm3n-4EsBYT",
        "outputId": "82661e82-f903-49a8-8b3c-c750df143713"
      },
      "execution_count": 144,
      "outputs": [
        {
          "output_type": "execute_result",
          "data": {
            "text/plain": [
              "             datetime  season  holiday  workingday  weather  temp   atemp  \\\n",
              "0  2011-01-01 0:00:00       1        0           0        1  9.84  14.395   \n",
              "1  2011-01-01 1:00:00       1        0           0        1  9.02  13.635   \n",
              "2  2011-01-01 2:00:00       1        0           0        1  9.02  13.635   \n",
              "3  2011-01-01 3:00:00       1        0           0        1  9.84  14.395   \n",
              "4  2011-01-01 4:00:00       1        0           0        1  9.84  14.395   \n",
              "\n",
              "   humidity  windspeed  casual  registered  count  \n",
              "0        81        0.0       3          13     16  \n",
              "1        80        0.0       8          32     40  \n",
              "2        80        0.0       5          27     32  \n",
              "3        75        0.0       3          10     13  \n",
              "4        75        0.0       0           1      1  "
            ],
            "text/html": [
              "\n",
              "  <div id=\"df-d879526d-1747-4863-8d1e-07e26c98a66c\">\n",
              "    <div class=\"colab-df-container\">\n",
              "      <div>\n",
              "<style scoped>\n",
              "    .dataframe tbody tr th:only-of-type {\n",
              "        vertical-align: middle;\n",
              "    }\n",
              "\n",
              "    .dataframe tbody tr th {\n",
              "        vertical-align: top;\n",
              "    }\n",
              "\n",
              "    .dataframe thead th {\n",
              "        text-align: right;\n",
              "    }\n",
              "</style>\n",
              "<table border=\"1\" class=\"dataframe\">\n",
              "  <thead>\n",
              "    <tr style=\"text-align: right;\">\n",
              "      <th></th>\n",
              "      <th>datetime</th>\n",
              "      <th>season</th>\n",
              "      <th>holiday</th>\n",
              "      <th>workingday</th>\n",
              "      <th>weather</th>\n",
              "      <th>temp</th>\n",
              "      <th>atemp</th>\n",
              "      <th>humidity</th>\n",
              "      <th>windspeed</th>\n",
              "      <th>casual</th>\n",
              "      <th>registered</th>\n",
              "      <th>count</th>\n",
              "    </tr>\n",
              "  </thead>\n",
              "  <tbody>\n",
              "    <tr>\n",
              "      <th>0</th>\n",
              "      <td>2011-01-01 0:00:00</td>\n",
              "      <td>1</td>\n",
              "      <td>0</td>\n",
              "      <td>0</td>\n",
              "      <td>1</td>\n",
              "      <td>9.84</td>\n",
              "      <td>14.395</td>\n",
              "      <td>81</td>\n",
              "      <td>0.0</td>\n",
              "      <td>3</td>\n",
              "      <td>13</td>\n",
              "      <td>16</td>\n",
              "    </tr>\n",
              "    <tr>\n",
              "      <th>1</th>\n",
              "      <td>2011-01-01 1:00:00</td>\n",
              "      <td>1</td>\n",
              "      <td>0</td>\n",
              "      <td>0</td>\n",
              "      <td>1</td>\n",
              "      <td>9.02</td>\n",
              "      <td>13.635</td>\n",
              "      <td>80</td>\n",
              "      <td>0.0</td>\n",
              "      <td>8</td>\n",
              "      <td>32</td>\n",
              "      <td>40</td>\n",
              "    </tr>\n",
              "    <tr>\n",
              "      <th>2</th>\n",
              "      <td>2011-01-01 2:00:00</td>\n",
              "      <td>1</td>\n",
              "      <td>0</td>\n",
              "      <td>0</td>\n",
              "      <td>1</td>\n",
              "      <td>9.02</td>\n",
              "      <td>13.635</td>\n",
              "      <td>80</td>\n",
              "      <td>0.0</td>\n",
              "      <td>5</td>\n",
              "      <td>27</td>\n",
              "      <td>32</td>\n",
              "    </tr>\n",
              "    <tr>\n",
              "      <th>3</th>\n",
              "      <td>2011-01-01 3:00:00</td>\n",
              "      <td>1</td>\n",
              "      <td>0</td>\n",
              "      <td>0</td>\n",
              "      <td>1</td>\n",
              "      <td>9.84</td>\n",
              "      <td>14.395</td>\n",
              "      <td>75</td>\n",
              "      <td>0.0</td>\n",
              "      <td>3</td>\n",
              "      <td>10</td>\n",
              "      <td>13</td>\n",
              "    </tr>\n",
              "    <tr>\n",
              "      <th>4</th>\n",
              "      <td>2011-01-01 4:00:00</td>\n",
              "      <td>1</td>\n",
              "      <td>0</td>\n",
              "      <td>0</td>\n",
              "      <td>1</td>\n",
              "      <td>9.84</td>\n",
              "      <td>14.395</td>\n",
              "      <td>75</td>\n",
              "      <td>0.0</td>\n",
              "      <td>0</td>\n",
              "      <td>1</td>\n",
              "      <td>1</td>\n",
              "    </tr>\n",
              "  </tbody>\n",
              "</table>\n",
              "</div>\n",
              "      <button class=\"colab-df-convert\" onclick=\"convertToInteractive('df-d879526d-1747-4863-8d1e-07e26c98a66c')\"\n",
              "              title=\"Convert this dataframe to an interactive table.\"\n",
              "              style=\"display:none;\">\n",
              "        \n",
              "  <svg xmlns=\"http://www.w3.org/2000/svg\" height=\"24px\"viewBox=\"0 0 24 24\"\n",
              "       width=\"24px\">\n",
              "    <path d=\"M0 0h24v24H0V0z\" fill=\"none\"/>\n",
              "    <path d=\"M18.56 5.44l.94 2.06.94-2.06 2.06-.94-2.06-.94-.94-2.06-.94 2.06-2.06.94zm-11 1L8.5 8.5l.94-2.06 2.06-.94-2.06-.94L8.5 2.5l-.94 2.06-2.06.94zm10 10l.94 2.06.94-2.06 2.06-.94-2.06-.94-.94-2.06-.94 2.06-2.06.94z\"/><path d=\"M17.41 7.96l-1.37-1.37c-.4-.4-.92-.59-1.43-.59-.52 0-1.04.2-1.43.59L10.3 9.45l-7.72 7.72c-.78.78-.78 2.05 0 2.83L4 21.41c.39.39.9.59 1.41.59.51 0 1.02-.2 1.41-.59l7.78-7.78 2.81-2.81c.8-.78.8-2.07 0-2.86zM5.41 20L4 18.59l7.72-7.72 1.47 1.35L5.41 20z\"/>\n",
              "  </svg>\n",
              "      </button>\n",
              "      \n",
              "  <style>\n",
              "    .colab-df-container {\n",
              "      display:flex;\n",
              "      flex-wrap:wrap;\n",
              "      gap: 12px;\n",
              "    }\n",
              "\n",
              "    .colab-df-convert {\n",
              "      background-color: #E8F0FE;\n",
              "      border: none;\n",
              "      border-radius: 50%;\n",
              "      cursor: pointer;\n",
              "      display: none;\n",
              "      fill: #1967D2;\n",
              "      height: 32px;\n",
              "      padding: 0 0 0 0;\n",
              "      width: 32px;\n",
              "    }\n",
              "\n",
              "    .colab-df-convert:hover {\n",
              "      background-color: #E2EBFA;\n",
              "      box-shadow: 0px 1px 2px rgba(60, 64, 67, 0.3), 0px 1px 3px 1px rgba(60, 64, 67, 0.15);\n",
              "      fill: #174EA6;\n",
              "    }\n",
              "\n",
              "    [theme=dark] .colab-df-convert {\n",
              "      background-color: #3B4455;\n",
              "      fill: #D2E3FC;\n",
              "    }\n",
              "\n",
              "    [theme=dark] .colab-df-convert:hover {\n",
              "      background-color: #434B5C;\n",
              "      box-shadow: 0px 1px 3px 1px rgba(0, 0, 0, 0.15);\n",
              "      filter: drop-shadow(0px 1px 2px rgba(0, 0, 0, 0.3));\n",
              "      fill: #FFFFFF;\n",
              "    }\n",
              "  </style>\n",
              "\n",
              "      <script>\n",
              "        const buttonEl =\n",
              "          document.querySelector('#df-d879526d-1747-4863-8d1e-07e26c98a66c button.colab-df-convert');\n",
              "        buttonEl.style.display =\n",
              "          google.colab.kernel.accessAllowed ? 'block' : 'none';\n",
              "\n",
              "        async function convertToInteractive(key) {\n",
              "          const element = document.querySelector('#df-d879526d-1747-4863-8d1e-07e26c98a66c');\n",
              "          const dataTable =\n",
              "            await google.colab.kernel.invokeFunction('convertToInteractive',\n",
              "                                                     [key], {});\n",
              "          if (!dataTable) return;\n",
              "\n",
              "          const docLinkHtml = 'Like what you see? Visit the ' +\n",
              "            '<a target=\"_blank\" href=https://colab.research.google.com/notebooks/data_table.ipynb>data table notebook</a>'\n",
              "            + ' to learn more about interactive tables.';\n",
              "          element.innerHTML = '';\n",
              "          dataTable['output_type'] = 'display_data';\n",
              "          await google.colab.output.renderOutput(dataTable, element);\n",
              "          const docLink = document.createElement('div');\n",
              "          docLink.innerHTML = docLinkHtml;\n",
              "          element.appendChild(docLink);\n",
              "        }\n",
              "      </script>\n",
              "    </div>\n",
              "  </div>\n",
              "  "
            ]
          },
          "metadata": {},
          "execution_count": 144
        }
      ]
    },
    {
      "cell_type": "markdown",
      "source": [
        "**Eliminacion de columnas redundantes**"
      ],
      "metadata": {
        "id": "JDsvnRfetuPN"
      }
    },
    {
      "cell_type": "code",
      "source": [
        "df.drop(columns=[\"casual\",\"registered\"], inplace=True)"
      ],
      "metadata": {
        "id": "pyzCNWKasMd2"
      },
      "execution_count": 145,
      "outputs": []
    },
    {
      "cell_type": "markdown",
      "source": [
        "Transforma la columna de fecha y hora en un tipo de fecha hora y utilízalo para crear 3 columnas nuevas en el dataframe que contenga:\n",
        "\n",
        "  1. Nombre del mes   2. Nombre del día de la semana   3. Hora del día\n",
        "\n",
        "   Asegúrate que todas las 3 nuevas columnas son un tipo de datos “objeto” para que se más tarde se le aplica una codificación one-hot.  \n",
        "  2. Elimina las columnas “datetime” y “season”.  Estas son ahora redundantes. "
      ],
      "metadata": {
        "id": "PnB_65mntzWV"
      }
    },
    {
      "cell_type": "code",
      "source": [
        "df['datetime'] = pd.to_datetime(df['datetime'])"
      ],
      "metadata": {
        "id": "nZ999mlOsfcy"
      },
      "execution_count": 146,
      "outputs": []
    },
    {
      "cell_type": "code",
      "source": [
        "df['month_name'] = df['datetime'].dt.month_name()\n",
        "df['weekday_name'] = df['datetime'].dt.day_name()\n",
        "df['hour'] = df['datetime'].dt.hour\n",
        "df.drop(columns=[\"datetime\",\"season\"], inplace=True)\n",
        "df.head()"
      ],
      "metadata": {
        "colab": {
          "base_uri": "https://localhost:8080/",
          "height": 206
        },
        "id": "RWNIfNaEtpnx",
        "outputId": "5f823441-81c7-45f6-d7ea-4a3a47565e79"
      },
      "execution_count": 147,
      "outputs": [
        {
          "output_type": "execute_result",
          "data": {
            "text/plain": [
              "   holiday  workingday  weather  temp   atemp  humidity  windspeed  count  \\\n",
              "0        0           0        1  9.84  14.395        81        0.0     16   \n",
              "1        0           0        1  9.02  13.635        80        0.0     40   \n",
              "2        0           0        1  9.02  13.635        80        0.0     32   \n",
              "3        0           0        1  9.84  14.395        75        0.0     13   \n",
              "4        0           0        1  9.84  14.395        75        0.0      1   \n",
              "\n",
              "  month_name weekday_name  hour  \n",
              "0    January     Saturday     0  \n",
              "1    January     Saturday     1  \n",
              "2    January     Saturday     2  \n",
              "3    January     Saturday     3  \n",
              "4    January     Saturday     4  "
            ],
            "text/html": [
              "\n",
              "  <div id=\"df-69ba4df0-21e2-4eaf-a17d-5b9766999fe4\">\n",
              "    <div class=\"colab-df-container\">\n",
              "      <div>\n",
              "<style scoped>\n",
              "    .dataframe tbody tr th:only-of-type {\n",
              "        vertical-align: middle;\n",
              "    }\n",
              "\n",
              "    .dataframe tbody tr th {\n",
              "        vertical-align: top;\n",
              "    }\n",
              "\n",
              "    .dataframe thead th {\n",
              "        text-align: right;\n",
              "    }\n",
              "</style>\n",
              "<table border=\"1\" class=\"dataframe\">\n",
              "  <thead>\n",
              "    <tr style=\"text-align: right;\">\n",
              "      <th></th>\n",
              "      <th>holiday</th>\n",
              "      <th>workingday</th>\n",
              "      <th>weather</th>\n",
              "      <th>temp</th>\n",
              "      <th>atemp</th>\n",
              "      <th>humidity</th>\n",
              "      <th>windspeed</th>\n",
              "      <th>count</th>\n",
              "      <th>month_name</th>\n",
              "      <th>weekday_name</th>\n",
              "      <th>hour</th>\n",
              "    </tr>\n",
              "  </thead>\n",
              "  <tbody>\n",
              "    <tr>\n",
              "      <th>0</th>\n",
              "      <td>0</td>\n",
              "      <td>0</td>\n",
              "      <td>1</td>\n",
              "      <td>9.84</td>\n",
              "      <td>14.395</td>\n",
              "      <td>81</td>\n",
              "      <td>0.0</td>\n",
              "      <td>16</td>\n",
              "      <td>January</td>\n",
              "      <td>Saturday</td>\n",
              "      <td>0</td>\n",
              "    </tr>\n",
              "    <tr>\n",
              "      <th>1</th>\n",
              "      <td>0</td>\n",
              "      <td>0</td>\n",
              "      <td>1</td>\n",
              "      <td>9.02</td>\n",
              "      <td>13.635</td>\n",
              "      <td>80</td>\n",
              "      <td>0.0</td>\n",
              "      <td>40</td>\n",
              "      <td>January</td>\n",
              "      <td>Saturday</td>\n",
              "      <td>1</td>\n",
              "    </tr>\n",
              "    <tr>\n",
              "      <th>2</th>\n",
              "      <td>0</td>\n",
              "      <td>0</td>\n",
              "      <td>1</td>\n",
              "      <td>9.02</td>\n",
              "      <td>13.635</td>\n",
              "      <td>80</td>\n",
              "      <td>0.0</td>\n",
              "      <td>32</td>\n",
              "      <td>January</td>\n",
              "      <td>Saturday</td>\n",
              "      <td>2</td>\n",
              "    </tr>\n",
              "    <tr>\n",
              "      <th>3</th>\n",
              "      <td>0</td>\n",
              "      <td>0</td>\n",
              "      <td>1</td>\n",
              "      <td>9.84</td>\n",
              "      <td>14.395</td>\n",
              "      <td>75</td>\n",
              "      <td>0.0</td>\n",
              "      <td>13</td>\n",
              "      <td>January</td>\n",
              "      <td>Saturday</td>\n",
              "      <td>3</td>\n",
              "    </tr>\n",
              "    <tr>\n",
              "      <th>4</th>\n",
              "      <td>0</td>\n",
              "      <td>0</td>\n",
              "      <td>1</td>\n",
              "      <td>9.84</td>\n",
              "      <td>14.395</td>\n",
              "      <td>75</td>\n",
              "      <td>0.0</td>\n",
              "      <td>1</td>\n",
              "      <td>January</td>\n",
              "      <td>Saturday</td>\n",
              "      <td>4</td>\n",
              "    </tr>\n",
              "  </tbody>\n",
              "</table>\n",
              "</div>\n",
              "      <button class=\"colab-df-convert\" onclick=\"convertToInteractive('df-69ba4df0-21e2-4eaf-a17d-5b9766999fe4')\"\n",
              "              title=\"Convert this dataframe to an interactive table.\"\n",
              "              style=\"display:none;\">\n",
              "        \n",
              "  <svg xmlns=\"http://www.w3.org/2000/svg\" height=\"24px\"viewBox=\"0 0 24 24\"\n",
              "       width=\"24px\">\n",
              "    <path d=\"M0 0h24v24H0V0z\" fill=\"none\"/>\n",
              "    <path d=\"M18.56 5.44l.94 2.06.94-2.06 2.06-.94-2.06-.94-.94-2.06-.94 2.06-2.06.94zm-11 1L8.5 8.5l.94-2.06 2.06-.94-2.06-.94L8.5 2.5l-.94 2.06-2.06.94zm10 10l.94 2.06.94-2.06 2.06-.94-2.06-.94-.94-2.06-.94 2.06-2.06.94z\"/><path d=\"M17.41 7.96l-1.37-1.37c-.4-.4-.92-.59-1.43-.59-.52 0-1.04.2-1.43.59L10.3 9.45l-7.72 7.72c-.78.78-.78 2.05 0 2.83L4 21.41c.39.39.9.59 1.41.59.51 0 1.02-.2 1.41-.59l7.78-7.78 2.81-2.81c.8-.78.8-2.07 0-2.86zM5.41 20L4 18.59l7.72-7.72 1.47 1.35L5.41 20z\"/>\n",
              "  </svg>\n",
              "      </button>\n",
              "      \n",
              "  <style>\n",
              "    .colab-df-container {\n",
              "      display:flex;\n",
              "      flex-wrap:wrap;\n",
              "      gap: 12px;\n",
              "    }\n",
              "\n",
              "    .colab-df-convert {\n",
              "      background-color: #E8F0FE;\n",
              "      border: none;\n",
              "      border-radius: 50%;\n",
              "      cursor: pointer;\n",
              "      display: none;\n",
              "      fill: #1967D2;\n",
              "      height: 32px;\n",
              "      padding: 0 0 0 0;\n",
              "      width: 32px;\n",
              "    }\n",
              "\n",
              "    .colab-df-convert:hover {\n",
              "      background-color: #E2EBFA;\n",
              "      box-shadow: 0px 1px 2px rgba(60, 64, 67, 0.3), 0px 1px 3px 1px rgba(60, 64, 67, 0.15);\n",
              "      fill: #174EA6;\n",
              "    }\n",
              "\n",
              "    [theme=dark] .colab-df-convert {\n",
              "      background-color: #3B4455;\n",
              "      fill: #D2E3FC;\n",
              "    }\n",
              "\n",
              "    [theme=dark] .colab-df-convert:hover {\n",
              "      background-color: #434B5C;\n",
              "      box-shadow: 0px 1px 3px 1px rgba(0, 0, 0, 0.15);\n",
              "      filter: drop-shadow(0px 1px 2px rgba(0, 0, 0, 0.3));\n",
              "      fill: #FFFFFF;\n",
              "    }\n",
              "  </style>\n",
              "\n",
              "      <script>\n",
              "        const buttonEl =\n",
              "          document.querySelector('#df-69ba4df0-21e2-4eaf-a17d-5b9766999fe4 button.colab-df-convert');\n",
              "        buttonEl.style.display =\n",
              "          google.colab.kernel.accessAllowed ? 'block' : 'none';\n",
              "\n",
              "        async function convertToInteractive(key) {\n",
              "          const element = document.querySelector('#df-69ba4df0-21e2-4eaf-a17d-5b9766999fe4');\n",
              "          const dataTable =\n",
              "            await google.colab.kernel.invokeFunction('convertToInteractive',\n",
              "                                                     [key], {});\n",
              "          if (!dataTable) return;\n",
              "\n",
              "          const docLinkHtml = 'Like what you see? Visit the ' +\n",
              "            '<a target=\"_blank\" href=https://colab.research.google.com/notebooks/data_table.ipynb>data table notebook</a>'\n",
              "            + ' to learn more about interactive tables.';\n",
              "          element.innerHTML = '';\n",
              "          dataTable['output_type'] = 'display_data';\n",
              "          await google.colab.output.renderOutput(dataTable, element);\n",
              "          const docLink = document.createElement('div');\n",
              "          docLink.innerHTML = docLinkHtml;\n",
              "          element.appendChild(docLink);\n",
              "        }\n",
              "      </script>\n",
              "    </div>\n",
              "  </div>\n",
              "  "
            ]
          },
          "metadata": {},
          "execution_count": 147
        }
      ]
    },
    {
      "cell_type": "code",
      "source": [
        "df[\"hour\"] = df['hour'].astype(\"object\")"
      ],
      "metadata": {
        "id": "Bz0sH90txVBM"
      },
      "execution_count": 148,
      "outputs": []
    },
    {
      "cell_type": "markdown",
      "source": [
        "Las temperaturas en la columna “temp” y “atemp” son en Celsius. Utiliza .apply() para convertirlas en Fahrenheit."
      ],
      "metadata": {
        "id": "ky07BjPz5-F5"
      }
    },
    {
      "cell_type": "code",
      "source": [
        "def celsius_fah(temp):\n",
        "  fahrenheit = temp *(9/5)+32\n",
        "  return fahrenheit\n",
        "\n",
        "df[\"temp\"] = df[\"temp\"].apply(celsius_fah)\n",
        "df[\"atemp\"] = df[\"atemp\"].apply(celsius_fah)"
      ],
      "metadata": {
        "id": "vgY66dXA5lvW"
      },
      "execution_count": 149,
      "outputs": []
    },
    {
      "cell_type": "code",
      "source": [
        "df.head()"
      ],
      "metadata": {
        "colab": {
          "base_uri": "https://localhost:8080/",
          "height": 206
        },
        "id": "1AvfXK858t9T",
        "outputId": "afb13b23-a1b8-4302-d807-3a18134c2d40"
      },
      "execution_count": 150,
      "outputs": [
        {
          "output_type": "execute_result",
          "data": {
            "text/plain": [
              "   holiday  workingday  weather    temp   atemp  humidity  windspeed  count  \\\n",
              "0        0           0        1  49.712  57.911        81        0.0     16   \n",
              "1        0           0        1  48.236  56.543        80        0.0     40   \n",
              "2        0           0        1  48.236  56.543        80        0.0     32   \n",
              "3        0           0        1  49.712  57.911        75        0.0     13   \n",
              "4        0           0        1  49.712  57.911        75        0.0      1   \n",
              "\n",
              "  month_name weekday_name hour  \n",
              "0    January     Saturday    0  \n",
              "1    January     Saturday    1  \n",
              "2    January     Saturday    2  \n",
              "3    January     Saturday    3  \n",
              "4    January     Saturday    4  "
            ],
            "text/html": [
              "\n",
              "  <div id=\"df-82aa4ca5-e299-4fab-b4b7-d7a632bd783f\">\n",
              "    <div class=\"colab-df-container\">\n",
              "      <div>\n",
              "<style scoped>\n",
              "    .dataframe tbody tr th:only-of-type {\n",
              "        vertical-align: middle;\n",
              "    }\n",
              "\n",
              "    .dataframe tbody tr th {\n",
              "        vertical-align: top;\n",
              "    }\n",
              "\n",
              "    .dataframe thead th {\n",
              "        text-align: right;\n",
              "    }\n",
              "</style>\n",
              "<table border=\"1\" class=\"dataframe\">\n",
              "  <thead>\n",
              "    <tr style=\"text-align: right;\">\n",
              "      <th></th>\n",
              "      <th>holiday</th>\n",
              "      <th>workingday</th>\n",
              "      <th>weather</th>\n",
              "      <th>temp</th>\n",
              "      <th>atemp</th>\n",
              "      <th>humidity</th>\n",
              "      <th>windspeed</th>\n",
              "      <th>count</th>\n",
              "      <th>month_name</th>\n",
              "      <th>weekday_name</th>\n",
              "      <th>hour</th>\n",
              "    </tr>\n",
              "  </thead>\n",
              "  <tbody>\n",
              "    <tr>\n",
              "      <th>0</th>\n",
              "      <td>0</td>\n",
              "      <td>0</td>\n",
              "      <td>1</td>\n",
              "      <td>49.712</td>\n",
              "      <td>57.911</td>\n",
              "      <td>81</td>\n",
              "      <td>0.0</td>\n",
              "      <td>16</td>\n",
              "      <td>January</td>\n",
              "      <td>Saturday</td>\n",
              "      <td>0</td>\n",
              "    </tr>\n",
              "    <tr>\n",
              "      <th>1</th>\n",
              "      <td>0</td>\n",
              "      <td>0</td>\n",
              "      <td>1</td>\n",
              "      <td>48.236</td>\n",
              "      <td>56.543</td>\n",
              "      <td>80</td>\n",
              "      <td>0.0</td>\n",
              "      <td>40</td>\n",
              "      <td>January</td>\n",
              "      <td>Saturday</td>\n",
              "      <td>1</td>\n",
              "    </tr>\n",
              "    <tr>\n",
              "      <th>2</th>\n",
              "      <td>0</td>\n",
              "      <td>0</td>\n",
              "      <td>1</td>\n",
              "      <td>48.236</td>\n",
              "      <td>56.543</td>\n",
              "      <td>80</td>\n",
              "      <td>0.0</td>\n",
              "      <td>32</td>\n",
              "      <td>January</td>\n",
              "      <td>Saturday</td>\n",
              "      <td>2</td>\n",
              "    </tr>\n",
              "    <tr>\n",
              "      <th>3</th>\n",
              "      <td>0</td>\n",
              "      <td>0</td>\n",
              "      <td>1</td>\n",
              "      <td>49.712</td>\n",
              "      <td>57.911</td>\n",
              "      <td>75</td>\n",
              "      <td>0.0</td>\n",
              "      <td>13</td>\n",
              "      <td>January</td>\n",
              "      <td>Saturday</td>\n",
              "      <td>3</td>\n",
              "    </tr>\n",
              "    <tr>\n",
              "      <th>4</th>\n",
              "      <td>0</td>\n",
              "      <td>0</td>\n",
              "      <td>1</td>\n",
              "      <td>49.712</td>\n",
              "      <td>57.911</td>\n",
              "      <td>75</td>\n",
              "      <td>0.0</td>\n",
              "      <td>1</td>\n",
              "      <td>January</td>\n",
              "      <td>Saturday</td>\n",
              "      <td>4</td>\n",
              "    </tr>\n",
              "  </tbody>\n",
              "</table>\n",
              "</div>\n",
              "      <button class=\"colab-df-convert\" onclick=\"convertToInteractive('df-82aa4ca5-e299-4fab-b4b7-d7a632bd783f')\"\n",
              "              title=\"Convert this dataframe to an interactive table.\"\n",
              "              style=\"display:none;\">\n",
              "        \n",
              "  <svg xmlns=\"http://www.w3.org/2000/svg\" height=\"24px\"viewBox=\"0 0 24 24\"\n",
              "       width=\"24px\">\n",
              "    <path d=\"M0 0h24v24H0V0z\" fill=\"none\"/>\n",
              "    <path d=\"M18.56 5.44l.94 2.06.94-2.06 2.06-.94-2.06-.94-.94-2.06-.94 2.06-2.06.94zm-11 1L8.5 8.5l.94-2.06 2.06-.94-2.06-.94L8.5 2.5l-.94 2.06-2.06.94zm10 10l.94 2.06.94-2.06 2.06-.94-2.06-.94-.94-2.06-.94 2.06-2.06.94z\"/><path d=\"M17.41 7.96l-1.37-1.37c-.4-.4-.92-.59-1.43-.59-.52 0-1.04.2-1.43.59L10.3 9.45l-7.72 7.72c-.78.78-.78 2.05 0 2.83L4 21.41c.39.39.9.59 1.41.59.51 0 1.02-.2 1.41-.59l7.78-7.78 2.81-2.81c.8-.78.8-2.07 0-2.86zM5.41 20L4 18.59l7.72-7.72 1.47 1.35L5.41 20z\"/>\n",
              "  </svg>\n",
              "      </button>\n",
              "      \n",
              "  <style>\n",
              "    .colab-df-container {\n",
              "      display:flex;\n",
              "      flex-wrap:wrap;\n",
              "      gap: 12px;\n",
              "    }\n",
              "\n",
              "    .colab-df-convert {\n",
              "      background-color: #E8F0FE;\n",
              "      border: none;\n",
              "      border-radius: 50%;\n",
              "      cursor: pointer;\n",
              "      display: none;\n",
              "      fill: #1967D2;\n",
              "      height: 32px;\n",
              "      padding: 0 0 0 0;\n",
              "      width: 32px;\n",
              "    }\n",
              "\n",
              "    .colab-df-convert:hover {\n",
              "      background-color: #E2EBFA;\n",
              "      box-shadow: 0px 1px 2px rgba(60, 64, 67, 0.3), 0px 1px 3px 1px rgba(60, 64, 67, 0.15);\n",
              "      fill: #174EA6;\n",
              "    }\n",
              "\n",
              "    [theme=dark] .colab-df-convert {\n",
              "      background-color: #3B4455;\n",
              "      fill: #D2E3FC;\n",
              "    }\n",
              "\n",
              "    [theme=dark] .colab-df-convert:hover {\n",
              "      background-color: #434B5C;\n",
              "      box-shadow: 0px 1px 3px 1px rgba(0, 0, 0, 0.15);\n",
              "      filter: drop-shadow(0px 1px 2px rgba(0, 0, 0, 0.3));\n",
              "      fill: #FFFFFF;\n",
              "    }\n",
              "  </style>\n",
              "\n",
              "      <script>\n",
              "        const buttonEl =\n",
              "          document.querySelector('#df-82aa4ca5-e299-4fab-b4b7-d7a632bd783f button.colab-df-convert');\n",
              "        buttonEl.style.display =\n",
              "          google.colab.kernel.accessAllowed ? 'block' : 'none';\n",
              "\n",
              "        async function convertToInteractive(key) {\n",
              "          const element = document.querySelector('#df-82aa4ca5-e299-4fab-b4b7-d7a632bd783f');\n",
              "          const dataTable =\n",
              "            await google.colab.kernel.invokeFunction('convertToInteractive',\n",
              "                                                     [key], {});\n",
              "          if (!dataTable) return;\n",
              "\n",
              "          const docLinkHtml = 'Like what you see? Visit the ' +\n",
              "            '<a target=\"_blank\" href=https://colab.research.google.com/notebooks/data_table.ipynb>data table notebook</a>'\n",
              "            + ' to learn more about interactive tables.';\n",
              "          element.innerHTML = '';\n",
              "          dataTable['output_type'] = 'display_data';\n",
              "          await google.colab.output.renderOutput(dataTable, element);\n",
              "          const docLink = document.createElement('div');\n",
              "          docLink.innerHTML = docLinkHtml;\n",
              "          element.appendChild(docLink);\n",
              "        }\n",
              "      </script>\n",
              "    </div>\n",
              "  </div>\n",
              "  "
            ]
          },
          "metadata": {},
          "execution_count": 150
        }
      ]
    },
    {
      "cell_type": "code",
      "source": [
        "df[\"temp_variance\"] = df[\"temp\"] - df[\"atemp\"]\n",
        "df.drop(columns=\"atemp\", inplace=True)\n",
        "df.head()"
      ],
      "metadata": {
        "colab": {
          "base_uri": "https://localhost:8080/",
          "height": 206
        },
        "id": "t1dKi7AR6ASz",
        "outputId": "92c425e7-492c-472b-ad6f-8e7586c067b7"
      },
      "execution_count": 151,
      "outputs": [
        {
          "output_type": "execute_result",
          "data": {
            "text/plain": [
              "   holiday  workingday  weather    temp  humidity  windspeed  count  \\\n",
              "0        0           0        1  49.712        81        0.0     16   \n",
              "1        0           0        1  48.236        80        0.0     40   \n",
              "2        0           0        1  48.236        80        0.0     32   \n",
              "3        0           0        1  49.712        75        0.0     13   \n",
              "4        0           0        1  49.712        75        0.0      1   \n",
              "\n",
              "  month_name weekday_name hour  temp_variance  \n",
              "0    January     Saturday    0         -8.199  \n",
              "1    January     Saturday    1         -8.307  \n",
              "2    January     Saturday    2         -8.307  \n",
              "3    January     Saturday    3         -8.199  \n",
              "4    January     Saturday    4         -8.199  "
            ],
            "text/html": [
              "\n",
              "  <div id=\"df-0f267564-d474-4954-a940-c1beb8d29d7a\">\n",
              "    <div class=\"colab-df-container\">\n",
              "      <div>\n",
              "<style scoped>\n",
              "    .dataframe tbody tr th:only-of-type {\n",
              "        vertical-align: middle;\n",
              "    }\n",
              "\n",
              "    .dataframe tbody tr th {\n",
              "        vertical-align: top;\n",
              "    }\n",
              "\n",
              "    .dataframe thead th {\n",
              "        text-align: right;\n",
              "    }\n",
              "</style>\n",
              "<table border=\"1\" class=\"dataframe\">\n",
              "  <thead>\n",
              "    <tr style=\"text-align: right;\">\n",
              "      <th></th>\n",
              "      <th>holiday</th>\n",
              "      <th>workingday</th>\n",
              "      <th>weather</th>\n",
              "      <th>temp</th>\n",
              "      <th>humidity</th>\n",
              "      <th>windspeed</th>\n",
              "      <th>count</th>\n",
              "      <th>month_name</th>\n",
              "      <th>weekday_name</th>\n",
              "      <th>hour</th>\n",
              "      <th>temp_variance</th>\n",
              "    </tr>\n",
              "  </thead>\n",
              "  <tbody>\n",
              "    <tr>\n",
              "      <th>0</th>\n",
              "      <td>0</td>\n",
              "      <td>0</td>\n",
              "      <td>1</td>\n",
              "      <td>49.712</td>\n",
              "      <td>81</td>\n",
              "      <td>0.0</td>\n",
              "      <td>16</td>\n",
              "      <td>January</td>\n",
              "      <td>Saturday</td>\n",
              "      <td>0</td>\n",
              "      <td>-8.199</td>\n",
              "    </tr>\n",
              "    <tr>\n",
              "      <th>1</th>\n",
              "      <td>0</td>\n",
              "      <td>0</td>\n",
              "      <td>1</td>\n",
              "      <td>48.236</td>\n",
              "      <td>80</td>\n",
              "      <td>0.0</td>\n",
              "      <td>40</td>\n",
              "      <td>January</td>\n",
              "      <td>Saturday</td>\n",
              "      <td>1</td>\n",
              "      <td>-8.307</td>\n",
              "    </tr>\n",
              "    <tr>\n",
              "      <th>2</th>\n",
              "      <td>0</td>\n",
              "      <td>0</td>\n",
              "      <td>1</td>\n",
              "      <td>48.236</td>\n",
              "      <td>80</td>\n",
              "      <td>0.0</td>\n",
              "      <td>32</td>\n",
              "      <td>January</td>\n",
              "      <td>Saturday</td>\n",
              "      <td>2</td>\n",
              "      <td>-8.307</td>\n",
              "    </tr>\n",
              "    <tr>\n",
              "      <th>3</th>\n",
              "      <td>0</td>\n",
              "      <td>0</td>\n",
              "      <td>1</td>\n",
              "      <td>49.712</td>\n",
              "      <td>75</td>\n",
              "      <td>0.0</td>\n",
              "      <td>13</td>\n",
              "      <td>January</td>\n",
              "      <td>Saturday</td>\n",
              "      <td>3</td>\n",
              "      <td>-8.199</td>\n",
              "    </tr>\n",
              "    <tr>\n",
              "      <th>4</th>\n",
              "      <td>0</td>\n",
              "      <td>0</td>\n",
              "      <td>1</td>\n",
              "      <td>49.712</td>\n",
              "      <td>75</td>\n",
              "      <td>0.0</td>\n",
              "      <td>1</td>\n",
              "      <td>January</td>\n",
              "      <td>Saturday</td>\n",
              "      <td>4</td>\n",
              "      <td>-8.199</td>\n",
              "    </tr>\n",
              "  </tbody>\n",
              "</table>\n",
              "</div>\n",
              "      <button class=\"colab-df-convert\" onclick=\"convertToInteractive('df-0f267564-d474-4954-a940-c1beb8d29d7a')\"\n",
              "              title=\"Convert this dataframe to an interactive table.\"\n",
              "              style=\"display:none;\">\n",
              "        \n",
              "  <svg xmlns=\"http://www.w3.org/2000/svg\" height=\"24px\"viewBox=\"0 0 24 24\"\n",
              "       width=\"24px\">\n",
              "    <path d=\"M0 0h24v24H0V0z\" fill=\"none\"/>\n",
              "    <path d=\"M18.56 5.44l.94 2.06.94-2.06 2.06-.94-2.06-.94-.94-2.06-.94 2.06-2.06.94zm-11 1L8.5 8.5l.94-2.06 2.06-.94-2.06-.94L8.5 2.5l-.94 2.06-2.06.94zm10 10l.94 2.06.94-2.06 2.06-.94-2.06-.94-.94-2.06-.94 2.06-2.06.94z\"/><path d=\"M17.41 7.96l-1.37-1.37c-.4-.4-.92-.59-1.43-.59-.52 0-1.04.2-1.43.59L10.3 9.45l-7.72 7.72c-.78.78-.78 2.05 0 2.83L4 21.41c.39.39.9.59 1.41.59.51 0 1.02-.2 1.41-.59l7.78-7.78 2.81-2.81c.8-.78.8-2.07 0-2.86zM5.41 20L4 18.59l7.72-7.72 1.47 1.35L5.41 20z\"/>\n",
              "  </svg>\n",
              "      </button>\n",
              "      \n",
              "  <style>\n",
              "    .colab-df-container {\n",
              "      display:flex;\n",
              "      flex-wrap:wrap;\n",
              "      gap: 12px;\n",
              "    }\n",
              "\n",
              "    .colab-df-convert {\n",
              "      background-color: #E8F0FE;\n",
              "      border: none;\n",
              "      border-radius: 50%;\n",
              "      cursor: pointer;\n",
              "      display: none;\n",
              "      fill: #1967D2;\n",
              "      height: 32px;\n",
              "      padding: 0 0 0 0;\n",
              "      width: 32px;\n",
              "    }\n",
              "\n",
              "    .colab-df-convert:hover {\n",
              "      background-color: #E2EBFA;\n",
              "      box-shadow: 0px 1px 2px rgba(60, 64, 67, 0.3), 0px 1px 3px 1px rgba(60, 64, 67, 0.15);\n",
              "      fill: #174EA6;\n",
              "    }\n",
              "\n",
              "    [theme=dark] .colab-df-convert {\n",
              "      background-color: #3B4455;\n",
              "      fill: #D2E3FC;\n",
              "    }\n",
              "\n",
              "    [theme=dark] .colab-df-convert:hover {\n",
              "      background-color: #434B5C;\n",
              "      box-shadow: 0px 1px 3px 1px rgba(0, 0, 0, 0.15);\n",
              "      filter: drop-shadow(0px 1px 2px rgba(0, 0, 0, 0.3));\n",
              "      fill: #FFFFFF;\n",
              "    }\n",
              "  </style>\n",
              "\n",
              "      <script>\n",
              "        const buttonEl =\n",
              "          document.querySelector('#df-0f267564-d474-4954-a940-c1beb8d29d7a button.colab-df-convert');\n",
              "        buttonEl.style.display =\n",
              "          google.colab.kernel.accessAllowed ? 'block' : 'none';\n",
              "\n",
              "        async function convertToInteractive(key) {\n",
              "          const element = document.querySelector('#df-0f267564-d474-4954-a940-c1beb8d29d7a');\n",
              "          const dataTable =\n",
              "            await google.colab.kernel.invokeFunction('convertToInteractive',\n",
              "                                                     [key], {});\n",
              "          if (!dataTable) return;\n",
              "\n",
              "          const docLinkHtml = 'Like what you see? Visit the ' +\n",
              "            '<a target=\"_blank\" href=https://colab.research.google.com/notebooks/data_table.ipynb>data table notebook</a>'\n",
              "            + ' to learn more about interactive tables.';\n",
              "          element.innerHTML = '';\n",
              "          dataTable['output_type'] = 'display_data';\n",
              "          await google.colab.output.renderOutput(dataTable, element);\n",
              "          const docLink = document.createElement('div');\n",
              "          docLink.innerHTML = docLinkHtml;\n",
              "          element.appendChild(docLink);\n",
              "        }\n",
              "      </script>\n",
              "    </div>\n",
              "  </div>\n",
              "  "
            ]
          },
          "metadata": {},
          "execution_count": 151
        }
      ]
    },
    {
      "cell_type": "markdown",
      "source": [
        "###**Preparacion para Machine Learning**"
      ],
      "metadata": {
        "id": "CrbI6Uc1Z0gI"
      }
    },
    {
      "cell_type": "code",
      "source": [
        "df.isna().sum()"
      ],
      "metadata": {
        "id": "AT502UCA8wjx",
        "colab": {
          "base_uri": "https://localhost:8080/"
        },
        "outputId": "7b9080f6-fe66-4369-c490-d690fbc13b86"
      },
      "execution_count": 152,
      "outputs": [
        {
          "output_type": "execute_result",
          "data": {
            "text/plain": [
              "holiday          0\n",
              "workingday       0\n",
              "weather          0\n",
              "temp             0\n",
              "humidity         0\n",
              "windspeed        0\n",
              "count            0\n",
              "month_name       0\n",
              "weekday_name     0\n",
              "hour             0\n",
              "temp_variance    0\n",
              "dtype: int64"
            ]
          },
          "metadata": {},
          "execution_count": 152
        }
      ]
    },
    {
      "cell_type": "code",
      "source": [
        "df = df[~df.duplicated()]"
      ],
      "metadata": {
        "id": "iFSAlVFtZsON"
      },
      "execution_count": 153,
      "outputs": []
    },
    {
      "cell_type": "markdown",
      "source": [
        "**Con el codigo anterior, nos aseguramos de que el conjunto de datos no tiene ningun registro nulo, ni tampoco cuenta con registros duplicados.**"
      ],
      "metadata": {
        "id": "Z-WRzDP8aOD1"
      }
    },
    {
      "cell_type": "code",
      "source": [
        "df.info()"
      ],
      "metadata": {
        "colab": {
          "base_uri": "https://localhost:8080/"
        },
        "id": "hy_pnnsSaGME",
        "outputId": "cbc3b7de-9b8d-47e8-979b-1f6c7fc70b8e"
      },
      "execution_count": 154,
      "outputs": [
        {
          "output_type": "stream",
          "name": "stdout",
          "text": [
            "<class 'pandas.core.frame.DataFrame'>\n",
            "Int64Index: 10885 entries, 0 to 10885\n",
            "Data columns (total 11 columns):\n",
            " #   Column         Non-Null Count  Dtype  \n",
            "---  ------         --------------  -----  \n",
            " 0   holiday        10885 non-null  int64  \n",
            " 1   workingday     10885 non-null  int64  \n",
            " 2   weather        10885 non-null  int64  \n",
            " 3   temp           10885 non-null  float64\n",
            " 4   humidity       10885 non-null  int64  \n",
            " 5   windspeed      10885 non-null  float64\n",
            " 6   count          10885 non-null  int64  \n",
            " 7   month_name     10885 non-null  object \n",
            " 8   weekday_name   10885 non-null  object \n",
            " 9   hour           10885 non-null  object \n",
            " 10  temp_variance  10885 non-null  float64\n",
            "dtypes: float64(3), int64(5), object(3)\n",
            "memory usage: 1020.5+ KB\n"
          ]
        }
      ]
    },
    {
      "cell_type": "code",
      "source": [
        "from sklearn.model_selection import train_test_split\n",
        "from sklearn.linear_model import LinearRegression\n",
        "from sklearn.compose import make_column_selector, make_column_transformer\n",
        "from sklearn.preprocessing import OneHotEncoder, StandardScaler"
      ],
      "metadata": {
        "id": "JuDAk6vEaVHx"
      },
      "execution_count": 155,
      "outputs": []
    },
    {
      "cell_type": "code",
      "source": [
        "X = df.drop(columns=\"count\")\n",
        "y = df[\"count\"]\n",
        "X_train, X_test, y_train, y_test = train_test_split(X,y, random_state=10)"
      ],
      "metadata": {
        "id": "YwUIeslDb3vC"
      },
      "execution_count": 156,
      "outputs": []
    },
    {
      "cell_type": "code",
      "source": [
        "cat_selector = make_column_selector(dtype_include = \"object\")\n",
        "num_selector = make_column_selector(dtype_include = \"number\")"
      ],
      "metadata": {
        "id": "FzkBNgFMcJBc"
      },
      "execution_count": 157,
      "outputs": []
    },
    {
      "cell_type": "code",
      "source": [
        "scaler = StandardScaler()\n",
        "ohe = OneHotEncoder(handle_unknown = \"ignore\")"
      ],
      "metadata": {
        "id": "9hveb6gVcMeQ"
      },
      "execution_count": 158,
      "outputs": []
    },
    {
      "cell_type": "code",
      "source": [
        "num_tuple = (scaler, num_selector)\n",
        "cat_tuple = (ohe, cat_selector)"
      ],
      "metadata": {
        "id": "ySlEKMUwdBUF"
      },
      "execution_count": 159,
      "outputs": []
    },
    {
      "cell_type": "code",
      "source": [
        "col_transformer = make_column_transformer(num_tuple, cat_tuple)\n",
        "col_transformer.fit(X_train)"
      ],
      "metadata": {
        "colab": {
          "base_uri": "https://localhost:8080/"
        },
        "id": "j2An2fYEdJcd",
        "outputId": "75a30ada-7151-405f-d701-9f13c209c391"
      },
      "execution_count": 160,
      "outputs": [
        {
          "output_type": "execute_result",
          "data": {
            "text/plain": [
              "ColumnTransformer(transformers=[('standardscaler', StandardScaler(),\n",
              "                                 <sklearn.compose._column_transformer.make_column_selector object at 0x7fa755cae910>),\n",
              "                                ('onehotencoder',\n",
              "                                 OneHotEncoder(handle_unknown='ignore'),\n",
              "                                 <sklearn.compose._column_transformer.make_column_selector object at 0x7fa753f66430>)])"
            ]
          },
          "metadata": {},
          "execution_count": 160
        }
      ]
    },
    {
      "cell_type": "code",
      "source": [
        "X_train_processed = col_transformer.transform(X_train)\n",
        "X_test_processed = col_transformer.transform(X_test)"
      ],
      "metadata": {
        "id": "AuWqcvCfdXpr"
      },
      "execution_count": 161,
      "outputs": []
    },
    {
      "cell_type": "markdown",
      "source": [
        "##Linear Regression"
      ],
      "metadata": {
        "id": "C4_0a8ZxhBS1"
      }
    },
    {
      "cell_type": "code",
      "source": [
        "reg = LinearRegression()\n",
        "reg.fit(X_train_processed, y_train)\n",
        "test_score = reg.score(X_test_processed, y_test)\n",
        "print(test_score)"
      ],
      "metadata": {
        "colab": {
          "base_uri": "https://localhost:8080/"
        },
        "id": "WhE40uw8cEng",
        "outputId": "c10b3bff-66b9-4a49-96c9-cb560d8545b4"
      },
      "execution_count": 162,
      "outputs": [
        {
          "output_type": "stream",
          "name": "stdout",
          "text": [
            "0.6294823992126615\n"
          ]
        }
      ]
    },
    {
      "cell_type": "markdown",
      "source": [
        "## RandomForest"
      ],
      "metadata": {
        "id": "a2BxwOVBhD2b"
      }
    },
    {
      "cell_type": "code",
      "source": [
        "from sklearn.ensemble import RandomForestRegressor\n",
        "import matplotlib.pyplot as plt"
      ],
      "metadata": {
        "id": "5kUsupmqftOF"
      },
      "execution_count": 163,
      "outputs": []
    },
    {
      "cell_type": "code",
      "source": [
        "rf = RandomForestRegressor(random_state=10, max_depth = 30)\n",
        "rf.fit(X_train_processed, y_train)\n",
        "rf_score = rf.score(X_test_processed, y_test)\n",
        "print(rf_score)"
      ],
      "metadata": {
        "colab": {
          "base_uri": "https://localhost:8080/"
        },
        "id": "mAcYLUYohJrX",
        "outputId": "2b48d752-0ad7-4254-d74e-c16439fece46"
      },
      "execution_count": 164,
      "outputs": [
        {
          "output_type": "stream",
          "name": "stdout",
          "text": [
            "0.82693796568549\n"
          ]
        }
      ]
    },
    {
      "cell_type": "markdown",
      "source": [
        "Luego de aplicar regresion linear y arbol de regresion, se aprecia que tras la ingenieria de caracteristicas aplicadas"
      ],
      "metadata": {
        "id": "xsv1uiDxiebW"
      }
    },
    {
      "cell_type": "markdown",
      "source": [
        "A continuacion se muestra el resultado obtenido con el modelo de random forest en el conjunto de datos sin aplicar la ingenieria de caracteristicas.\n",
        "![imagen.png](data:image/png;base64,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)"
      ],
      "metadata": {
        "id": "_X10McaHW72_"
      }
    },
    {
      "cell_type": "code",
      "source": [],
      "metadata": {
        "id": "z-4yzeBcW6VY"
      },
      "execution_count": null,
      "outputs": []
    }
  ]
}