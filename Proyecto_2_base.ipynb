{
  "nbformat": 4,
  "nbformat_minor": 0,
  "metadata": {
    "colab": {
      "provenance": [],
      "authorship_tag": "ABX9TyOxo6F8jFBEW94YbmHL2Ixo",
      "include_colab_link": true
    },
    "kernelspec": {
      "name": "python3",
      "display_name": "Python 3"
    },
    "language_info": {
      "name": "python"
    }
  },
  "cells": [
    {
      "cell_type": "markdown",
      "metadata": {
        "id": "view-in-github",
        "colab_type": "text"
      },
      "source": [
        "<a href=\"https://colab.research.google.com/github/FelipeGonzalezGarrido/predicciones-de-ventas/blob/main/Proyecto_2_base.ipynb\" target=\"_parent\"><img src=\"https://colab.research.google.com/assets/colab-badge.svg\" alt=\"Open In Colab\"/></a>"
      ]
    },
    {
      "cell_type": "code",
      "execution_count": 1,
      "metadata": {
        "colab": {
          "base_uri": "https://localhost:8080/"
        },
        "id": "hyiutahQKWDV",
        "outputId": "985ff370-b232-4c23-be51-8228ba68d98b"
      },
      "outputs": [
        {
          "output_type": "stream",
          "name": "stdout",
          "text": [
            "Mounted at /content/drive\n"
          ]
        }
      ],
      "source": [
        "from google.colab import drive\n",
        "drive.mount (\"/content/drive\")"
      ]
    },
    {
      "cell_type": "code",
      "source": [
        "import pandas as pd"
      ],
      "metadata": {
        "id": "wXlvGSyhMGCA"
      },
      "execution_count": 2,
      "outputs": []
    },
    {
      "cell_type": "code",
      "source": [
        "filename = \"/content/drive/MyDrive/Data CodingDojo/car_price.csv\"\n",
        "df = pd.read_csv(filename)\n",
        "df.head()"
      ],
      "metadata": {
        "colab": {
          "base_uri": "https://localhost:8080/",
          "height": 206
        },
        "id": "48FbS9arMZ_a",
        "outputId": "03b4cc8b-4c82-47a1-83cf-9f92ef33e7ce"
      },
      "execution_count": 3,
      "outputs": [
        {
          "output_type": "execute_result",
          "data": {
            "text/plain": [
              "   Unnamed: 0                                car_name car_prices_in_rupee  \\\n",
              "0           0  Jeep Compass 2.0 Longitude Option BSIV          10.03 Lakh   \n",
              "1           1            Renault Duster RXZ Turbo CVT          12.83 Lakh   \n",
              "2           2                      Toyota Camry 2.5 G          16.40 Lakh   \n",
              "3           3                       Honda Jazz VX CVT           7.77 Lakh   \n",
              "4           4        Volkswagen Polo 1.2 MPI Highline           5.15 Lakh   \n",
              "\n",
              "   kms_driven fuel_type transmission  ownership  manufacture   engine    Seats  \n",
              "0  86,226 kms    Diesel       Manual  1st Owner         2017  1956 cc  5 Seats  \n",
              "1  13,248 kms    Petrol    Automatic  1st Owner         2021  1330 cc  5 Seats  \n",
              "2  60,343 kms    Petrol    Automatic  1st Owner         2016  2494 cc  5 Seats  \n",
              "3  26,696 kms    Petrol    Automatic  1st Owner         2018  1199 cc  5 Seats  \n",
              "4  69,414 kms    Petrol       Manual  1st Owner         2016  1199 cc  5 Seats  "
            ],
            "text/html": [
              "\n",
              "  <div id=\"df-9278f1a7-0532-4c86-8416-c83b42fded17\">\n",
              "    <div class=\"colab-df-container\">\n",
              "      <div>\n",
              "<style scoped>\n",
              "    .dataframe tbody tr th:only-of-type {\n",
              "        vertical-align: middle;\n",
              "    }\n",
              "\n",
              "    .dataframe tbody tr th {\n",
              "        vertical-align: top;\n",
              "    }\n",
              "\n",
              "    .dataframe thead th {\n",
              "        text-align: right;\n",
              "    }\n",
              "</style>\n",
              "<table border=\"1\" class=\"dataframe\">\n",
              "  <thead>\n",
              "    <tr style=\"text-align: right;\">\n",
              "      <th></th>\n",
              "      <th>Unnamed: 0</th>\n",
              "      <th>car_name</th>\n",
              "      <th>car_prices_in_rupee</th>\n",
              "      <th>kms_driven</th>\n",
              "      <th>fuel_type</th>\n",
              "      <th>transmission</th>\n",
              "      <th>ownership</th>\n",
              "      <th>manufacture</th>\n",
              "      <th>engine</th>\n",
              "      <th>Seats</th>\n",
              "    </tr>\n",
              "  </thead>\n",
              "  <tbody>\n",
              "    <tr>\n",
              "      <th>0</th>\n",
              "      <td>0</td>\n",
              "      <td>Jeep Compass 2.0 Longitude Option BSIV</td>\n",
              "      <td>10.03 Lakh</td>\n",
              "      <td>86,226 kms</td>\n",
              "      <td>Diesel</td>\n",
              "      <td>Manual</td>\n",
              "      <td>1st Owner</td>\n",
              "      <td>2017</td>\n",
              "      <td>1956 cc</td>\n",
              "      <td>5 Seats</td>\n",
              "    </tr>\n",
              "    <tr>\n",
              "      <th>1</th>\n",
              "      <td>1</td>\n",
              "      <td>Renault Duster RXZ Turbo CVT</td>\n",
              "      <td>12.83 Lakh</td>\n",
              "      <td>13,248 kms</td>\n",
              "      <td>Petrol</td>\n",
              "      <td>Automatic</td>\n",
              "      <td>1st Owner</td>\n",
              "      <td>2021</td>\n",
              "      <td>1330 cc</td>\n",
              "      <td>5 Seats</td>\n",
              "    </tr>\n",
              "    <tr>\n",
              "      <th>2</th>\n",
              "      <td>2</td>\n",
              "      <td>Toyota Camry 2.5 G</td>\n",
              "      <td>16.40 Lakh</td>\n",
              "      <td>60,343 kms</td>\n",
              "      <td>Petrol</td>\n",
              "      <td>Automatic</td>\n",
              "      <td>1st Owner</td>\n",
              "      <td>2016</td>\n",
              "      <td>2494 cc</td>\n",
              "      <td>5 Seats</td>\n",
              "    </tr>\n",
              "    <tr>\n",
              "      <th>3</th>\n",
              "      <td>3</td>\n",
              "      <td>Honda Jazz VX CVT</td>\n",
              "      <td>7.77 Lakh</td>\n",
              "      <td>26,696 kms</td>\n",
              "      <td>Petrol</td>\n",
              "      <td>Automatic</td>\n",
              "      <td>1st Owner</td>\n",
              "      <td>2018</td>\n",
              "      <td>1199 cc</td>\n",
              "      <td>5 Seats</td>\n",
              "    </tr>\n",
              "    <tr>\n",
              "      <th>4</th>\n",
              "      <td>4</td>\n",
              "      <td>Volkswagen Polo 1.2 MPI Highline</td>\n",
              "      <td>5.15 Lakh</td>\n",
              "      <td>69,414 kms</td>\n",
              "      <td>Petrol</td>\n",
              "      <td>Manual</td>\n",
              "      <td>1st Owner</td>\n",
              "      <td>2016</td>\n",
              "      <td>1199 cc</td>\n",
              "      <td>5 Seats</td>\n",
              "    </tr>\n",
              "  </tbody>\n",
              "</table>\n",
              "</div>\n",
              "      <button class=\"colab-df-convert\" onclick=\"convertToInteractive('df-9278f1a7-0532-4c86-8416-c83b42fded17')\"\n",
              "              title=\"Convert this dataframe to an interactive table.\"\n",
              "              style=\"display:none;\">\n",
              "        \n",
              "  <svg xmlns=\"http://www.w3.org/2000/svg\" height=\"24px\"viewBox=\"0 0 24 24\"\n",
              "       width=\"24px\">\n",
              "    <path d=\"M0 0h24v24H0V0z\" fill=\"none\"/>\n",
              "    <path d=\"M18.56 5.44l.94 2.06.94-2.06 2.06-.94-2.06-.94-.94-2.06-.94 2.06-2.06.94zm-11 1L8.5 8.5l.94-2.06 2.06-.94-2.06-.94L8.5 2.5l-.94 2.06-2.06.94zm10 10l.94 2.06.94-2.06 2.06-.94-2.06-.94-.94-2.06-.94 2.06-2.06.94z\"/><path d=\"M17.41 7.96l-1.37-1.37c-.4-.4-.92-.59-1.43-.59-.52 0-1.04.2-1.43.59L10.3 9.45l-7.72 7.72c-.78.78-.78 2.05 0 2.83L4 21.41c.39.39.9.59 1.41.59.51 0 1.02-.2 1.41-.59l7.78-7.78 2.81-2.81c.8-.78.8-2.07 0-2.86zM5.41 20L4 18.59l7.72-7.72 1.47 1.35L5.41 20z\"/>\n",
              "  </svg>\n",
              "      </button>\n",
              "      \n",
              "  <style>\n",
              "    .colab-df-container {\n",
              "      display:flex;\n",
              "      flex-wrap:wrap;\n",
              "      gap: 12px;\n",
              "    }\n",
              "\n",
              "    .colab-df-convert {\n",
              "      background-color: #E8F0FE;\n",
              "      border: none;\n",
              "      border-radius: 50%;\n",
              "      cursor: pointer;\n",
              "      display: none;\n",
              "      fill: #1967D2;\n",
              "      height: 32px;\n",
              "      padding: 0 0 0 0;\n",
              "      width: 32px;\n",
              "    }\n",
              "\n",
              "    .colab-df-convert:hover {\n",
              "      background-color: #E2EBFA;\n",
              "      box-shadow: 0px 1px 2px rgba(60, 64, 67, 0.3), 0px 1px 3px 1px rgba(60, 64, 67, 0.15);\n",
              "      fill: #174EA6;\n",
              "    }\n",
              "\n",
              "    [theme=dark] .colab-df-convert {\n",
              "      background-color: #3B4455;\n",
              "      fill: #D2E3FC;\n",
              "    }\n",
              "\n",
              "    [theme=dark] .colab-df-convert:hover {\n",
              "      background-color: #434B5C;\n",
              "      box-shadow: 0px 1px 3px 1px rgba(0, 0, 0, 0.15);\n",
              "      filter: drop-shadow(0px 1px 2px rgba(0, 0, 0, 0.3));\n",
              "      fill: #FFFFFF;\n",
              "    }\n",
              "  </style>\n",
              "\n",
              "      <script>\n",
              "        const buttonEl =\n",
              "          document.querySelector('#df-9278f1a7-0532-4c86-8416-c83b42fded17 button.colab-df-convert');\n",
              "        buttonEl.style.display =\n",
              "          google.colab.kernel.accessAllowed ? 'block' : 'none';\n",
              "\n",
              "        async function convertToInteractive(key) {\n",
              "          const element = document.querySelector('#df-9278f1a7-0532-4c86-8416-c83b42fded17');\n",
              "          const dataTable =\n",
              "            await google.colab.kernel.invokeFunction('convertToInteractive',\n",
              "                                                     [key], {});\n",
              "          if (!dataTable) return;\n",
              "\n",
              "          const docLinkHtml = 'Like what you see? Visit the ' +\n",
              "            '<a target=\"_blank\" href=https://colab.research.google.com/notebooks/data_table.ipynb>data table notebook</a>'\n",
              "            + ' to learn more about interactive tables.';\n",
              "          element.innerHTML = '';\n",
              "          dataTable['output_type'] = 'display_data';\n",
              "          await google.colab.output.renderOutput(dataTable, element);\n",
              "          const docLink = document.createElement('div');\n",
              "          docLink.innerHTML = docLinkHtml;\n",
              "          element.appendChild(docLink);\n",
              "        }\n",
              "      </script>\n",
              "    </div>\n",
              "  </div>\n",
              "  "
            ]
          },
          "metadata": {},
          "execution_count": 3
        }
      ]
    },
    {
      "cell_type": "code",
      "source": [
        "df.info()"
      ],
      "metadata": {
        "colab": {
          "base_uri": "https://localhost:8080/"
        },
        "id": "Xh9O6WktMj_Q",
        "outputId": "fe8378de-cfbf-42ce-f30b-d89b3e760a7b"
      },
      "execution_count": 5,
      "outputs": [
        {
          "output_type": "stream",
          "name": "stdout",
          "text": [
            "<class 'pandas.core.frame.DataFrame'>\n",
            "RangeIndex: 5512 entries, 0 to 5511\n",
            "Data columns (total 10 columns):\n",
            " #   Column               Non-Null Count  Dtype \n",
            "---  ------               --------------  ----- \n",
            " 0   Unnamed: 0           5512 non-null   int64 \n",
            " 1   car_name             5512 non-null   object\n",
            " 2   car_prices_in_rupee  5512 non-null   object\n",
            " 3   kms_driven           5512 non-null   object\n",
            " 4   fuel_type            5512 non-null   object\n",
            " 5   transmission         5512 non-null   object\n",
            " 6   ownership            5512 non-null   object\n",
            " 7   manufacture          5512 non-null   int64 \n",
            " 8   engine               5512 non-null   object\n",
            " 9   Seats                5512 non-null   object\n",
            "dtypes: int64(2), object(8)\n",
            "memory usage: 430.8+ KB\n"
          ]
        }
      ]
    },
    {
      "cell_type": "markdown",
      "source": [
        "Primera opción: conjunto de datos 1\n",
        "\n",
        "1) Fuente de datos\n",
        "\n",
        "[Kaggle](https://www.kaggle.com/datasets/milanvaddoriya/old-car-price-prediction)\n",
        "\n",
        "2) Breve descripción de datos\n",
        "\n",
        "Contiene informacion sobre autos usados como:\n",
        "- Kilometraje\n",
        "- Precio\n",
        "- Añio de manufactura\n",
        "- Asientos\n",
        "- Tipo de combustible\n",
        "\n",
        "3) ¿Cuál es el objetivo?\n",
        "\n",
        "El objetivo es predecir el precio de un auto usado segun sus caracteristicas.\n",
        "\n",
        "4) ¿Este es un problema de clasificación o regresión?\n",
        "\n",
        "Como se busca identificar o predecir un precio, el cual es un valor continuo. Se trata de un problema de regresion.\n",
        "\n",
        "5) ¿Cuántas características hay?\n",
        "\n",
        "El conjunto de datos posee 8 caracteristicas.\n",
        "\n",
        "6) ¿Cuántas filas de datos hay?\n",
        "\n",
        "Tiene 5512 filas o registros.\n",
        "\n",
        "7) ¿Qué retos, si es que hay alguno, prevén en la limpieza, exploración o modelización con este conjunto de datos?\n",
        "\n",
        "El conjunto cuenta con columnas como el precio, el cual sera procesado para un mejor entendimiento a dolar.\n",
        "tambien regularizar los valores de kilometros recorridos y la codificacion en general del conjunto."
      ],
      "metadata": {
        "id": "TF2oOHdCNAzb"
      }
    },
    {
      "cell_type": "code",
      "source": [],
      "metadata": {
        "id": "MSHpOUqBM1fV"
      },
      "execution_count": null,
      "outputs": []
    }
  ]
}