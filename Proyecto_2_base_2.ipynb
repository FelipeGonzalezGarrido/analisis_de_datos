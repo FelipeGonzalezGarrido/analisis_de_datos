{
  "cells": [
    {
      "cell_type": "markdown",
      "metadata": {
        "id": "view-in-github",
        "colab_type": "text"
      },
      "source": [
        "<a href=\"https://colab.research.google.com/github/FelipeGonzalezGarrido/predicciones-de-ventas/blob/main/Proyecto_2_base_2.ipynb\" target=\"_parent\"><img src=\"https://colab.research.google.com/assets/colab-badge.svg\" alt=\"Open In Colab\"/></a>"
      ]
    },
    {
      "cell_type": "code",
      "execution_count": null,
      "metadata": {
        "colab": {
          "base_uri": "https://localhost:8080/"
        },
        "id": "hyiutahQKWDV",
        "outputId": "985ff370-b232-4c23-be51-8228ba68d98b"
      },
      "outputs": [
        {
          "name": "stdout",
          "output_type": "stream",
          "text": [
            "Mounted at /content/drive\n"
          ]
        }
      ],
      "source": [
        "from google.colab import drive\n",
        "drive.mount (\"/content/drive\")"
      ]
    },
    {
      "cell_type": "code",
      "execution_count": null,
      "metadata": {
        "id": "wXlvGSyhMGCA"
      },
      "outputs": [],
      "source": [
        "import pandas as pd\n",
        "import numpy as np\n",
        "import seaborn as sns"
      ]
    },
    {
      "cell_type": "code",
      "execution_count": null,
      "metadata": {
        "colab": {
          "base_uri": "https://localhost:8080/",
          "height": 206
        },
        "id": "48FbS9arMZ_a",
        "outputId": "03b4cc8b-4c82-47a1-83cf-9f92ef33e7ce"
      },
      "outputs": [
        {
          "data": {
            "text/html": [
              "<div>\n",
              "<style scoped>\n",
              "    .dataframe tbody tr th:only-of-type {\n",
              "        vertical-align: middle;\n",
              "    }\n",
              "\n",
              "    .dataframe tbody tr th {\n",
              "        vertical-align: top;\n",
              "    }\n",
              "\n",
              "    .dataframe thead th {\n",
              "        text-align: right;\n",
              "    }\n",
              "</style>\n",
              "<table border=\"1\" class=\"dataframe\">\n",
              "  <thead>\n",
              "    <tr style=\"text-align: right;\">\n",
              "      <th></th>\n",
              "      <th>Unnamed: 0</th>\n",
              "      <th>car_name</th>\n",
              "      <th>car_prices_in_rupee</th>\n",
              "      <th>kms_driven</th>\n",
              "      <th>fuel_type</th>\n",
              "      <th>transmission</th>\n",
              "      <th>ownership</th>\n",
              "      <th>manufacture</th>\n",
              "      <th>engine</th>\n",
              "      <th>Seats</th>\n",
              "    </tr>\n",
              "  </thead>\n",
              "  <tbody>\n",
              "    <tr>\n",
              "      <th>0</th>\n",
              "      <td>0</td>\n",
              "      <td>Jeep Compass 2.0 Longitude Option BSIV</td>\n",
              "      <td>10.03 Lakh</td>\n",
              "      <td>86,226 kms</td>\n",
              "      <td>Diesel</td>\n",
              "      <td>Manual</td>\n",
              "      <td>1st Owner</td>\n",
              "      <td>2017</td>\n",
              "      <td>1956 cc</td>\n",
              "      <td>5 Seats</td>\n",
              "    </tr>\n",
              "    <tr>\n",
              "      <th>1</th>\n",
              "      <td>1</td>\n",
              "      <td>Renault Duster RXZ Turbo CVT</td>\n",
              "      <td>12.83 Lakh</td>\n",
              "      <td>13,248 kms</td>\n",
              "      <td>Petrol</td>\n",
              "      <td>Automatic</td>\n",
              "      <td>1st Owner</td>\n",
              "      <td>2021</td>\n",
              "      <td>1330 cc</td>\n",
              "      <td>5 Seats</td>\n",
              "    </tr>\n",
              "    <tr>\n",
              "      <th>2</th>\n",
              "      <td>2</td>\n",
              "      <td>Toyota Camry 2.5 G</td>\n",
              "      <td>16.40 Lakh</td>\n",
              "      <td>60,343 kms</td>\n",
              "      <td>Petrol</td>\n",
              "      <td>Automatic</td>\n",
              "      <td>1st Owner</td>\n",
              "      <td>2016</td>\n",
              "      <td>2494 cc</td>\n",
              "      <td>5 Seats</td>\n",
              "    </tr>\n",
              "    <tr>\n",
              "      <th>3</th>\n",
              "      <td>3</td>\n",
              "      <td>Honda Jazz VX CVT</td>\n",
              "      <td>7.77 Lakh</td>\n",
              "      <td>26,696 kms</td>\n",
              "      <td>Petrol</td>\n",
              "      <td>Automatic</td>\n",
              "      <td>1st Owner</td>\n",
              "      <td>2018</td>\n",
              "      <td>1199 cc</td>\n",
              "      <td>5 Seats</td>\n",
              "    </tr>\n",
              "    <tr>\n",
              "      <th>4</th>\n",
              "      <td>4</td>\n",
              "      <td>Volkswagen Polo 1.2 MPI Highline</td>\n",
              "      <td>5.15 Lakh</td>\n",
              "      <td>69,414 kms</td>\n",
              "      <td>Petrol</td>\n",
              "      <td>Manual</td>\n",
              "      <td>1st Owner</td>\n",
              "      <td>2016</td>\n",
              "      <td>1199 cc</td>\n",
              "      <td>5 Seats</td>\n",
              "    </tr>\n",
              "  </tbody>\n",
              "</table>\n",
              "</div>"
            ],
            "text/plain": [
              "   Unnamed: 0                                car_name car_prices_in_rupee  \\\n",
              "0           0  Jeep Compass 2.0 Longitude Option BSIV          10.03 Lakh   \n",
              "1           1            Renault Duster RXZ Turbo CVT          12.83 Lakh   \n",
              "2           2                      Toyota Camry 2.5 G          16.40 Lakh   \n",
              "3           3                       Honda Jazz VX CVT           7.77 Lakh   \n",
              "4           4        Volkswagen Polo 1.2 MPI Highline           5.15 Lakh   \n",
              "\n",
              "   kms_driven fuel_type transmission  ownership  manufacture   engine    Seats  \n",
              "0  86,226 kms    Diesel       Manual  1st Owner         2017  1956 cc  5 Seats  \n",
              "1  13,248 kms    Petrol    Automatic  1st Owner         2021  1330 cc  5 Seats  \n",
              "2  60,343 kms    Petrol    Automatic  1st Owner         2016  2494 cc  5 Seats  \n",
              "3  26,696 kms    Petrol    Automatic  1st Owner         2018  1199 cc  5 Seats  \n",
              "4  69,414 kms    Petrol       Manual  1st Owner         2016  1199 cc  5 Seats  "
            ]
          },
          "execution_count": 292,
          "metadata": {},
          "output_type": "execute_result"
        }
      ],
      "source": [
        "filename = \"G:/Mi unidad/Data CodingDojo/car_price.csv\"\n",
        "df = pd.read_csv(filename)\n",
        "df.head()"
      ]
    },
    {
      "cell_type": "markdown",
      "metadata": {
        "id": "TF2oOHdCNAzb"
      },
      "source": [
        "# Primera opción: conjunto de datos 1\n",
        "\n",
        "1) Fuente de datos\n",
        "\n",
        "[Kaggle](https://www.kaggle.com/datasets/milanvaddoriya/old-car-price-prediction)\n",
        "\n",
        "2) Breve descripción de datos\n",
        "\n",
        "Contiene informacion sobre autos usados como:\n",
        "- Kilometraje\n",
        "- Precio\n",
        "- Añio de manufactura\n",
        "- Asientos\n",
        "- Tipo de combustible\n",
        "\n",
        "3) ¿Cuál es el objetivo?\n",
        "\n",
        "El objetivo es predecir el precio de un auto usado segun sus caracteristicas.\n",
        "\n",
        "4) ¿Este es un problema de clasificación o regresión?\n",
        "\n",
        "Como se busca identificar o predecir un precio, el cual es un valor continuo. Se trata de un problema de regresion.\n",
        "\n",
        "5) ¿Cuántas características hay?\n",
        "\n",
        "El conjunto de datos posee 8 caracteristicas.\n",
        "\n",
        "6) ¿Cuántas filas de datos hay?\n",
        "\n",
        "Tiene 5512 filas o registros.\n",
        "\n",
        "7) ¿Qué retos, si es que hay alguno, prevén en la limpieza, exploración o modelización con este conjunto de datos?\n",
        "\n",
        "El conjunto cuenta con columnas como el precio, el cual sera procesado para un mejor entendimiento a dolar.\n",
        "tambien regularizar los valores de kilometros recorridos y la codificacion en general del conjunto."
      ]
    },
    {
      "cell_type": "markdown",
      "metadata": {
        "id": "qv2IbWI2w9hY"
      },
      "source": [
        "# **Inicio EDA**"
      ]
    },
    {
      "cell_type": "markdown",
      "metadata": {
        "id": "1xgDvc3Lw9hZ"
      },
      "source": [
        "## Descripcion de columnas\n",
        "\n",
        "- car_name: contiene el nombre del auto, sera transformada con OHE\n",
        "- car_prices_in_rupee: contiene el valor del auto, sera transformado a dolar en nueva columna llamada \"prices_in_dollar\"\n",
        "- kms_drive: se dejaran solo numeros\n",
        "- fuel_tipe: tendra codificacion OHE\n",
        "- transmision: tendra codificacion OHE\n",
        "- ownership: caracteristica ordinal, debe ser transformada a numerica\n",
        "- manufacture: Scaler\n",
        "- engine: puede tener multiple valores distintos para mismo modelo de auto y anio, se eliminara\n",
        "- seats: puede tener multiple valores distintos para mismo modelo de auto y anio, se eliminara"
      ]
    },
    {
      "cell_type": "code",
      "execution_count": null,
      "metadata": {
        "id": "ExCEaMbqw9hb",
        "outputId": "9004f717-8a5a-4cec-95c9-75d6c1d078df"
      },
      "outputs": [
        {
          "data": {
            "text/html": [
              "<div>\n",
              "<style scoped>\n",
              "    .dataframe tbody tr th:only-of-type {\n",
              "        vertical-align: middle;\n",
              "    }\n",
              "\n",
              "    .dataframe tbody tr th {\n",
              "        vertical-align: top;\n",
              "    }\n",
              "\n",
              "    .dataframe thead th {\n",
              "        text-align: right;\n",
              "    }\n",
              "</style>\n",
              "<table border=\"1\" class=\"dataframe\">\n",
              "  <thead>\n",
              "    <tr style=\"text-align: right;\">\n",
              "      <th></th>\n",
              "      <th>car_name</th>\n",
              "      <th>kms_driven</th>\n",
              "      <th>fuel_type</th>\n",
              "      <th>transmission</th>\n",
              "      <th>ownership</th>\n",
              "      <th>manufacture</th>\n",
              "      <th>prices_in_dollar</th>\n",
              "    </tr>\n",
              "  </thead>\n",
              "  <tbody>\n",
              "    <tr>\n",
              "      <th>0</th>\n",
              "      <td>Jeep Compass 2.0 Longitude Option BSIV</td>\n",
              "      <td>86226</td>\n",
              "      <td>Diesel</td>\n",
              "      <td>Manual</td>\n",
              "      <td>1</td>\n",
              "      <td>2017</td>\n",
              "      <td>12036.0</td>\n",
              "    </tr>\n",
              "    <tr>\n",
              "      <th>1</th>\n",
              "      <td>Renault Duster RXZ Turbo CVT</td>\n",
              "      <td>13248</td>\n",
              "      <td>Petrol</td>\n",
              "      <td>Automatic</td>\n",
              "      <td>1</td>\n",
              "      <td>2021</td>\n",
              "      <td>15396.0</td>\n",
              "    </tr>\n",
              "    <tr>\n",
              "      <th>2</th>\n",
              "      <td>Toyota Camry 2.5 G</td>\n",
              "      <td>60343</td>\n",
              "      <td>Petrol</td>\n",
              "      <td>Automatic</td>\n",
              "      <td>1</td>\n",
              "      <td>2016</td>\n",
              "      <td>19680.0</td>\n",
              "    </tr>\n",
              "    <tr>\n",
              "      <th>3</th>\n",
              "      <td>Honda Jazz VX CVT</td>\n",
              "      <td>26696</td>\n",
              "      <td>Petrol</td>\n",
              "      <td>Automatic</td>\n",
              "      <td>1</td>\n",
              "      <td>2018</td>\n",
              "      <td>9324.0</td>\n",
              "    </tr>\n",
              "    <tr>\n",
              "      <th>4</th>\n",
              "      <td>Volkswagen Polo 1.2 MPI Highline</td>\n",
              "      <td>69414</td>\n",
              "      <td>Petrol</td>\n",
              "      <td>Manual</td>\n",
              "      <td>1</td>\n",
              "      <td>2016</td>\n",
              "      <td>6180.0</td>\n",
              "    </tr>\n",
              "  </tbody>\n",
              "</table>\n",
              "</div>"
            ],
            "text/plain": [
              "                                 car_name  kms_driven fuel_type transmission  \\\n",
              "0  Jeep Compass 2.0 Longitude Option BSIV       86226    Diesel       Manual   \n",
              "1            Renault Duster RXZ Turbo CVT       13248    Petrol    Automatic   \n",
              "2                      Toyota Camry 2.5 G       60343    Petrol    Automatic   \n",
              "3                       Honda Jazz VX CVT       26696    Petrol    Automatic   \n",
              "4        Volkswagen Polo 1.2 MPI Highline       69414    Petrol       Manual   \n",
              "\n",
              "   ownership  manufacture  prices_in_dollar  \n",
              "0          1         2017           12036.0  \n",
              "1          1         2021           15396.0  \n",
              "2          1         2016           19680.0  \n",
              "3          1         2018            9324.0  \n",
              "4          1         2016            6180.0  "
            ]
          },
          "execution_count": 337,
          "metadata": {},
          "output_type": "execute_result"
        }
      ],
      "source": [
        "df.head()"
      ]
    },
    {
      "cell_type": "code",
      "execution_count": null,
      "metadata": {
        "id": "MSHpOUqBM1fV"
      },
      "outputs": [],
      "source": [
        "#Eliminacion de columnas: [\"Unnamed: 0\",\"Seats\",\"engine\"]\n",
        "df.drop([\"Unnamed: 0\",\"Seats\",\"engine\"], axis=1, inplace=True)"
      ]
    },
    {
      "cell_type": "markdown",
      "metadata": {
        "id": "_CDqXCz6w9hf"
      },
      "source": [
        "## Avances\n",
        "- Columna Unnamed: 0, eliminada\n",
        "- Columna kms_drive, se elimina \"kms\" y \",\" del valor. quedando solo numeros.\n",
        "- Columna engine: Sera eliminada por tener valores que no reflejan la realidad, existe mucha variacion de cilindrada dentro del mismo modelo y anio lo cual sesgara el dato.\n",
        "- Columna prices_in_rupee cambiada por prices_in_dollar\n",
        "- Columna ordinal \"ownership\" transformada a numeros"
      ]
    },
    {
      "cell_type": "markdown",
      "metadata": {
        "id": "rHnisksXw9hi"
      },
      "source": [
        "**Columna [\"kms_drive\"]**\n",
        "- se limpia valor numerico y se transforma columna a int"
      ]
    },
    {
      "cell_type": "code",
      "execution_count": null,
      "metadata": {
        "id": "CR0w8godw9hj"
      },
      "outputs": [],
      "source": [
        "df[\"kms_driven\"] = df[\"kms_driven\"].str.replace(\" kms\",\"\") # eliminacion de letras kms\n",
        "df[\"kms_driven\"] = df[\"kms_driven\"].str.replace(\",\",\"\") # eliminacion de \",\" \n",
        "df[\"kms_driven\"] = df[\"kms_driven\"].astype(int) # transformacion de columna a integer"
      ]
    },
    {
      "cell_type": "markdown",
      "metadata": {
        "id": "k1UrMEF5w9hl"
      },
      "source": [
        "**Se identifican problemas con columna \"engine\" lo cual resulta en su exclusion del conjunto**\n",
        "- Se identifican algunos modelos para su examinacion."
      ]
    },
    {
      "cell_type": "code",
      "execution_count": null,
      "metadata": {
        "scrolled": true,
        "id": "q6JUsiQxw9hm",
        "outputId": "f623b058-f9db-408f-801a-adca1c21e3bc"
      },
      "outputs": [
        {
          "data": {
            "text/plain": [
              "Maruti Alto 800 LXI          53\n",
              "Maruti Swift VXI             46\n",
              "Maruti Wagon R VXI BS IV     43\n",
              "Maruti Swift Dzire VDI       42\n",
              "Maruti Swift Dzire VXI       42\n",
              "                             ..\n",
              "Tata New Safari XT            1\n",
              "Hyundai Creta 1.6 E Plus      1\n",
              "Toyota Etios 2014-2016 GD     1\n",
              "Mahindra Marazzo M8 8Str      1\n",
              "BMW M Series M4 Coupe         1\n",
              "Name: car_name, Length: 1896, dtype: int64"
            ]
          },
          "execution_count": 296,
          "metadata": {},
          "output_type": "execute_result"
        }
      ],
      "source": [
        "df[\"car_name\"].value_counts()"
      ]
    },
    {
      "cell_type": "code",
      "execution_count": null,
      "metadata": {
        "scrolled": true,
        "id": "oZ0Yf-lfw9hm",
        "outputId": "5b803a10-730a-463c-f92c-0b04a8f1c005"
      },
      "outputs": [
        {
          "data": {
            "text/html": [
              "<div>\n",
              "<style scoped>\n",
              "    .dataframe tbody tr th:only-of-type {\n",
              "        vertical-align: middle;\n",
              "    }\n",
              "\n",
              "    .dataframe tbody tr th {\n",
              "        vertical-align: top;\n",
              "    }\n",
              "\n",
              "    .dataframe thead th {\n",
              "        text-align: right;\n",
              "    }\n",
              "</style>\n",
              "<table border=\"1\" class=\"dataframe\">\n",
              "  <thead>\n",
              "    <tr style=\"text-align: right;\">\n",
              "      <th></th>\n",
              "      <th>car_name</th>\n",
              "      <th>car_prices_in_rupee</th>\n",
              "      <th>kms_driven</th>\n",
              "      <th>fuel_type</th>\n",
              "      <th>transmission</th>\n",
              "      <th>ownership</th>\n",
              "      <th>manufacture</th>\n",
              "    </tr>\n",
              "  </thead>\n",
              "  <tbody>\n",
              "    <tr>\n",
              "      <th>1094</th>\n",
              "      <td>Maruti Alto 800 LXI</td>\n",
              "      <td>3.23 Lakh</td>\n",
              "      <td>21949</td>\n",
              "      <td>Petrol</td>\n",
              "      <td>Manual</td>\n",
              "      <td>1st Owner</td>\n",
              "      <td>2017</td>\n",
              "    </tr>\n",
              "    <tr>\n",
              "      <th>1363</th>\n",
              "      <td>Maruti Alto 800 LXI</td>\n",
              "      <td>3.23 Lakh</td>\n",
              "      <td>21949</td>\n",
              "      <td>Petrol</td>\n",
              "      <td>Manual</td>\n",
              "      <td>1st Owner</td>\n",
              "      <td>2017</td>\n",
              "    </tr>\n",
              "    <tr>\n",
              "      <th>1684</th>\n",
              "      <td>Maruti Alto 800 LXI</td>\n",
              "      <td>3 Lakh</td>\n",
              "      <td>20000</td>\n",
              "      <td>Petrol</td>\n",
              "      <td>Manual</td>\n",
              "      <td>2nd Owner</td>\n",
              "      <td>2017</td>\n",
              "    </tr>\n",
              "    <tr>\n",
              "      <th>2670</th>\n",
              "      <td>Maruti Alto 800 LXI</td>\n",
              "      <td>2.51 Lakh</td>\n",
              "      <td>25919</td>\n",
              "      <td>Petrol</td>\n",
              "      <td>Manual</td>\n",
              "      <td>1st Owner</td>\n",
              "      <td>2017</td>\n",
              "    </tr>\n",
              "    <tr>\n",
              "      <th>2738</th>\n",
              "      <td>Maruti Alto 800 LXI</td>\n",
              "      <td>2.67 Lakh</td>\n",
              "      <td>7169</td>\n",
              "      <td>Petrol</td>\n",
              "      <td>Manual</td>\n",
              "      <td>1st Owner</td>\n",
              "      <td>2017</td>\n",
              "    </tr>\n",
              "    <tr>\n",
              "      <th>2748</th>\n",
              "      <td>Maruti Alto 800 LXI</td>\n",
              "      <td>2.49 Lakh</td>\n",
              "      <td>24000</td>\n",
              "      <td>Petrol</td>\n",
              "      <td>Manual</td>\n",
              "      <td>1st Owner</td>\n",
              "      <td>2017</td>\n",
              "    </tr>\n",
              "    <tr>\n",
              "      <th>2926</th>\n",
              "      <td>Maruti Alto 800 LXI</td>\n",
              "      <td>2.67 Lakh</td>\n",
              "      <td>26562</td>\n",
              "      <td>Petrol</td>\n",
              "      <td>Manual</td>\n",
              "      <td>1st Owner</td>\n",
              "      <td>2017</td>\n",
              "    </tr>\n",
              "    <tr>\n",
              "      <th>3134</th>\n",
              "      <td>Maruti Alto 800 LXI</td>\n",
              "      <td>2.50 Lakh</td>\n",
              "      <td>50000</td>\n",
              "      <td>Petrol</td>\n",
              "      <td>Manual</td>\n",
              "      <td>2nd Owner</td>\n",
              "      <td>2017</td>\n",
              "    </tr>\n",
              "    <tr>\n",
              "      <th>5022</th>\n",
              "      <td>Maruti Alto 800 LXI</td>\n",
              "      <td>2.67 Lakh</td>\n",
              "      <td>73505</td>\n",
              "      <td>Petrol</td>\n",
              "      <td>Manual</td>\n",
              "      <td>1st Owner</td>\n",
              "      <td>2017</td>\n",
              "    </tr>\n",
              "    <tr>\n",
              "      <th>5126</th>\n",
              "      <td>Maruti Alto 800 LXI</td>\n",
              "      <td>2.75 Lakh</td>\n",
              "      <td>22999</td>\n",
              "      <td>Petrol</td>\n",
              "      <td>Manual</td>\n",
              "      <td>1st Owner</td>\n",
              "      <td>2017</td>\n",
              "    </tr>\n",
              "  </tbody>\n",
              "</table>\n",
              "</div>"
            ],
            "text/plain": [
              "                 car_name car_prices_in_rupee  kms_driven fuel_type  \\\n",
              "1094  Maruti Alto 800 LXI           3.23 Lakh       21949    Petrol   \n",
              "1363  Maruti Alto 800 LXI           3.23 Lakh       21949    Petrol   \n",
              "1684  Maruti Alto 800 LXI              3 Lakh       20000    Petrol   \n",
              "2670  Maruti Alto 800 LXI           2.51 Lakh       25919    Petrol   \n",
              "2738  Maruti Alto 800 LXI           2.67 Lakh        7169    Petrol   \n",
              "2748  Maruti Alto 800 LXI           2.49 Lakh       24000    Petrol   \n",
              "2926  Maruti Alto 800 LXI           2.67 Lakh       26562    Petrol   \n",
              "3134  Maruti Alto 800 LXI           2.50 Lakh       50000    Petrol   \n",
              "5022  Maruti Alto 800 LXI           2.67 Lakh       73505    Petrol   \n",
              "5126  Maruti Alto 800 LXI           2.75 Lakh       22999    Petrol   \n",
              "\n",
              "     transmission  ownership  manufacture  \n",
              "1094       Manual  1st Owner         2017  \n",
              "1363       Manual  1st Owner         2017  \n",
              "1684       Manual  2nd Owner         2017  \n",
              "2670       Manual  1st Owner         2017  \n",
              "2738       Manual  1st Owner         2017  \n",
              "2748       Manual  1st Owner         2017  \n",
              "2926       Manual  1st Owner         2017  \n",
              "3134       Manual  2nd Owner         2017  \n",
              "5022       Manual  1st Owner         2017  \n",
              "5126       Manual  1st Owner         2017  "
            ]
          },
          "execution_count": 297,
          "metadata": {},
          "output_type": "execute_result"
        }
      ],
      "source": [
        "df[(df[\"car_name\"]== \"Maruti Alto 800 LXI\")&(df[\"manufacture\"]==2017)]"
      ]
    },
    {
      "cell_type": "markdown",
      "metadata": {
        "id": "HB83y5_6w9hn"
      },
      "source": [
        "**Se puede apreciar que el modelo \"Maruti Alto 800 LXI\", hecho en 2017. tiene distintas cilindradas como asientos.**"
      ]
    },
    {
      "cell_type": "markdown",
      "metadata": {
        "id": "7ut3_OaMw9ho"
      },
      "source": [
        "**A continuacion se trabajara la columna \"car_prices_in_rupee\".**\n",
        "- valores seran limpiados de cualquier caracter o letra.\n",
        "- seran convertidos en dolares."
      ]
    },
    {
      "cell_type": "code",
      "execution_count": null,
      "metadata": {
        "id": "BRvFMSMDw9ho"
      },
      "outputs": [],
      "source": [
        "df[\"car_prices_in_rupee\"] = df[\"car_prices_in_rupee\"].str.replace(\"Crore\",\"10000000\")# se cambia unidad crore a numero\n",
        "df[\"car_prices_in_rupee\"] = df[\"car_prices_in_rupee\"].str.replace(\"Lakh\",\"100000\")# se cambia unidad lakh a numero\n",
        "df[\"car_prices_in_rupee\"] = df[\"car_prices_in_rupee\"].str.replace(\",\",\".\")# se normaliza separacion del numero"
      ]
    },
    {
      "cell_type": "markdown",
      "metadata": {
        "id": "2yiCcoujw9hq"
      },
      "source": [
        "A continuacion creamos una lista dividida entre el precio en rupias y su unidad en miles (crore y lakh)"
      ]
    },
    {
      "cell_type": "code",
      "execution_count": null,
      "metadata": {
        "id": "UDS1Ryt0w9hq"
      },
      "outputs": [],
      "source": [
        "price_separador = df[\"car_prices_in_rupee\"].str.split(\" \")"
      ]
    },
    {
      "cell_type": "code",
      "execution_count": null,
      "metadata": {
        "id": "zihmbVzCw9hr",
        "outputId": "8fc8d66c-7af0-451f-d590-457f1a22f994"
      },
      "outputs": [
        {
          "data": {
            "text/plain": [
              "0       [10.03, 100000]\n",
              "1       [12.83, 100000]\n",
              "2       [16.40, 100000]\n",
              "3        [7.77, 100000]\n",
              "4        [5.15, 100000]\n",
              "             ...       \n",
              "5507    [28.90, 100000]\n",
              "5508    [64.90, 100000]\n",
              "5509    [13.75, 100000]\n",
              "5510    [29.90, 100000]\n",
              "5511    [31.90, 100000]\n",
              "Name: car_prices_in_rupee, Length: 5512, dtype: object"
            ]
          },
          "execution_count": 300,
          "metadata": {},
          "output_type": "execute_result"
        }
      ],
      "source": [
        "price_separador"
      ]
    },
    {
      "cell_type": "markdown",
      "metadata": {
        "id": "kz0cIBAPw9hs"
      },
      "source": [
        "**Ahora para tener el valor total en rupias, multiplicaremos cada elemento en:**\n",
        "- Lakh: unidad de medida, equivale a 100000\n",
        "- crore: unidad de medida, equivale a 10000000\n"
      ]
    },
    {
      "cell_type": "code",
      "execution_count": null,
      "metadata": {
        "id": "ZAU-cHwcw9hs",
        "outputId": "e29978cb-23de-495b-89ce-cc5e6c53f02c"
      },
      "outputs": [
        {
          "name": "stderr",
          "output_type": "stream",
          "text": [
            "<ipython-input-301-fa1ab3f28541>:4: SettingWithCopyWarning: \n",
            "A value is trying to be set on a copy of a slice from a DataFrame\n",
            "\n",
            "See the caveats in the documentation: https://pandas.pydata.org/pandas-docs/stable/user_guide/indexing.html#returning-a-view-versus-a-copy\n",
            "  df[\"prices_in_dollar\"][x] = float(price_separador[x][0]) * float(price_separador[x][1])\n"
          ]
        }
      ],
      "source": [
        "df[\"prices_in_dollar\"] = 0\n",
        "for x in range(0, 5512):\n",
        "    if price_separador[x][1] != \"\": \n",
        "        df[\"prices_in_dollar\"][x] = float(price_separador[x][0]) * float(price_separador[x][1])\n",
        "    else:\n",
        "        df[\"prices_in_dollar\"][x] = float(price_separador[x][0]) * 1000"
      ]
    },
    {
      "cell_type": "markdown",
      "metadata": {
        "id": "DyjVQysOw9ht"
      },
      "source": [
        "**A continuacion podemos apreciar con las 5 primeras y ultimas columnas que el resultado de la operacion fue exitoso**"
      ]
    },
    {
      "cell_type": "code",
      "execution_count": null,
      "metadata": {
        "id": "L_DPqbTow9hu"
      },
      "outputs": [],
      "source": [
        "#transformacion de divisa en dolar\n",
        "#df[\"prices_in_dollar\"] = df[\"prices_in_dollar\"] * 0.012"
      ]
    },
    {
      "cell_type": "code",
      "execution_count": null,
      "metadata": {
        "scrolled": true,
        "id": "PuEPu1bQw9hv",
        "outputId": "e644ee63-9db6-4c1a-a576-74b132b6399b"
      },
      "outputs": [
        {
          "data": {
            "text/html": [
              "<div>\n",
              "<style scoped>\n",
              "    .dataframe tbody tr th:only-of-type {\n",
              "        vertical-align: middle;\n",
              "    }\n",
              "\n",
              "    .dataframe tbody tr th {\n",
              "        vertical-align: top;\n",
              "    }\n",
              "\n",
              "    .dataframe thead th {\n",
              "        text-align: right;\n",
              "    }\n",
              "</style>\n",
              "<table border=\"1\" class=\"dataframe\">\n",
              "  <thead>\n",
              "    <tr style=\"text-align: right;\">\n",
              "      <th></th>\n",
              "      <th>car_name</th>\n",
              "      <th>car_prices_in_rupee</th>\n",
              "      <th>kms_driven</th>\n",
              "      <th>fuel_type</th>\n",
              "      <th>transmission</th>\n",
              "      <th>ownership</th>\n",
              "      <th>manufacture</th>\n",
              "      <th>prices_in_dollar</th>\n",
              "    </tr>\n",
              "  </thead>\n",
              "  <tbody>\n",
              "    <tr>\n",
              "      <th>5406</th>\n",
              "      <td>Land Rover Range Rover 3.0 Petrol LWB Vogue BSIV</td>\n",
              "      <td>1.92 10000000</td>\n",
              "      <td>40000</td>\n",
              "      <td>Petrol</td>\n",
              "      <td>Automatic</td>\n",
              "      <td>1st Owner</td>\n",
              "      <td>2019</td>\n",
              "      <td>230400.0</td>\n",
              "    </tr>\n",
              "    <tr>\n",
              "      <th>4160</th>\n",
              "      <td>Land Rover Range Rover 3.0 Petrol LWB Vogue BSIV</td>\n",
              "      <td>1.92 10000000</td>\n",
              "      <td>40000</td>\n",
              "      <td>Petrol</td>\n",
              "      <td>Automatic</td>\n",
              "      <td>1st Owner</td>\n",
              "      <td>2019</td>\n",
              "      <td>230400.0</td>\n",
              "    </tr>\n",
              "    <tr>\n",
              "      <th>3097</th>\n",
              "      <td>Land Rover Range Rover 3.0 Petrol LWB Vogue BSIV</td>\n",
              "      <td>1.92 10000000</td>\n",
              "      <td>40000</td>\n",
              "      <td>Petrol</td>\n",
              "      <td>Automatic</td>\n",
              "      <td>1st Owner</td>\n",
              "      <td>2019</td>\n",
              "      <td>230400.0</td>\n",
              "    </tr>\n",
              "    <tr>\n",
              "      <th>892</th>\n",
              "      <td>Land Rover Range Rover 3.0 Petrol LWB Vogue BSIV</td>\n",
              "      <td>1.92 10000000</td>\n",
              "      <td>40000</td>\n",
              "      <td>Petrol</td>\n",
              "      <td>Automatic</td>\n",
              "      <td>1st Owner</td>\n",
              "      <td>2019</td>\n",
              "      <td>230400.0</td>\n",
              "    </tr>\n",
              "    <tr>\n",
              "      <th>1331</th>\n",
              "      <td>Land Rover Range Rover 3.0 Petrol LWB Vogue BSIV</td>\n",
              "      <td>1.92 10000000</td>\n",
              "      <td>40000</td>\n",
              "      <td>Petrol</td>\n",
              "      <td>Automatic</td>\n",
              "      <td>1st Owner</td>\n",
              "      <td>2019</td>\n",
              "      <td>230400.0</td>\n",
              "    </tr>\n",
              "  </tbody>\n",
              "</table>\n",
              "</div>"
            ],
            "text/plain": [
              "                                              car_name car_prices_in_rupee  \\\n",
              "5406  Land Rover Range Rover 3.0 Petrol LWB Vogue BSIV       1.92 10000000   \n",
              "4160  Land Rover Range Rover 3.0 Petrol LWB Vogue BSIV       1.92 10000000   \n",
              "3097  Land Rover Range Rover 3.0 Petrol LWB Vogue BSIV       1.92 10000000   \n",
              "892   Land Rover Range Rover 3.0 Petrol LWB Vogue BSIV       1.92 10000000   \n",
              "1331  Land Rover Range Rover 3.0 Petrol LWB Vogue BSIV       1.92 10000000   \n",
              "\n",
              "      kms_driven fuel_type transmission  ownership  manufacture  \\\n",
              "5406       40000    Petrol    Automatic  1st Owner         2019   \n",
              "4160       40000    Petrol    Automatic  1st Owner         2019   \n",
              "3097       40000    Petrol    Automatic  1st Owner         2019   \n",
              "892        40000    Petrol    Automatic  1st Owner         2019   \n",
              "1331       40000    Petrol    Automatic  1st Owner         2019   \n",
              "\n",
              "      prices_in_dollar  \n",
              "5406          230400.0  \n",
              "4160          230400.0  \n",
              "3097          230400.0  \n",
              "892           230400.0  \n",
              "1331          230400.0  "
            ]
          },
          "execution_count": 304,
          "metadata": {},
          "output_type": "execute_result"
        }
      ],
      "source": [
        "df.sort_values(\"prices_in_dollar\", ascending=False).head()"
      ]
    },
    {
      "cell_type": "code",
      "execution_count": null,
      "metadata": {
        "id": "qxs9kUjPw9hv",
        "outputId": "28f36e5d-0485-4e37-cb74-dbf74b555202"
      },
      "outputs": [
        {
          "data": {
            "text/html": [
              "<div>\n",
              "<style scoped>\n",
              "    .dataframe tbody tr th:only-of-type {\n",
              "        vertical-align: middle;\n",
              "    }\n",
              "\n",
              "    .dataframe tbody tr th {\n",
              "        vertical-align: top;\n",
              "    }\n",
              "\n",
              "    .dataframe thead th {\n",
              "        text-align: right;\n",
              "    }\n",
              "</style>\n",
              "<table border=\"1\" class=\"dataframe\">\n",
              "  <thead>\n",
              "    <tr style=\"text-align: right;\">\n",
              "      <th></th>\n",
              "      <th>car_name</th>\n",
              "      <th>car_prices_in_rupee</th>\n",
              "      <th>kms_driven</th>\n",
              "      <th>fuel_type</th>\n",
              "      <th>transmission</th>\n",
              "      <th>ownership</th>\n",
              "      <th>manufacture</th>\n",
              "      <th>prices_in_dollar</th>\n",
              "    </tr>\n",
              "  </thead>\n",
              "  <tbody>\n",
              "    <tr>\n",
              "      <th>3336</th>\n",
              "      <td>Maruti 800 Std</td>\n",
              "      <td>35.000</td>\n",
              "      <td>80000</td>\n",
              "      <td>Petrol</td>\n",
              "      <td>Manual</td>\n",
              "      <td>2nd Owner</td>\n",
              "      <td>1999</td>\n",
              "      <td>420.0</td>\n",
              "    </tr>\n",
              "    <tr>\n",
              "      <th>4668</th>\n",
              "      <td>Tata Nano Lx</td>\n",
              "      <td>35.000</td>\n",
              "      <td>50000</td>\n",
              "      <td>Petrol</td>\n",
              "      <td>Manual</td>\n",
              "      <td>2nd Owner</td>\n",
              "      <td>2011</td>\n",
              "      <td>420.0</td>\n",
              "    </tr>\n",
              "    <tr>\n",
              "      <th>4948</th>\n",
              "      <td>Tata Nano Lx BSIV</td>\n",
              "      <td>35.000</td>\n",
              "      <td>100000</td>\n",
              "      <td>Petrol</td>\n",
              "      <td>Manual</td>\n",
              "      <td>1st Owner</td>\n",
              "      <td>2012</td>\n",
              "      <td>420.0</td>\n",
              "    </tr>\n",
              "    <tr>\n",
              "      <th>957</th>\n",
              "      <td>Maruti Zen LXI</td>\n",
              "      <td>39.000</td>\n",
              "      <td>100000</td>\n",
              "      <td>Petrol</td>\n",
              "      <td>Manual</td>\n",
              "      <td>2nd Owner</td>\n",
              "      <td>2000</td>\n",
              "      <td>468.0</td>\n",
              "    </tr>\n",
              "    <tr>\n",
              "      <th>2204</th>\n",
              "      <td>Maruti 800 DX 5 Speed</td>\n",
              "      <td>40.000</td>\n",
              "      <td>80000</td>\n",
              "      <td>Petrol</td>\n",
              "      <td>Manual</td>\n",
              "      <td>1st Owner</td>\n",
              "      <td>2000</td>\n",
              "      <td>480.0</td>\n",
              "    </tr>\n",
              "  </tbody>\n",
              "</table>\n",
              "</div>"
            ],
            "text/plain": [
              "                   car_name car_prices_in_rupee  kms_driven fuel_type  \\\n",
              "3336         Maruti 800 Std             35.000        80000    Petrol   \n",
              "4668           Tata Nano Lx             35.000        50000    Petrol   \n",
              "4948      Tata Nano Lx BSIV             35.000       100000    Petrol   \n",
              "957          Maruti Zen LXI             39.000       100000    Petrol   \n",
              "2204  Maruti 800 DX 5 Speed             40.000        80000    Petrol   \n",
              "\n",
              "     transmission  ownership  manufacture  prices_in_dollar  \n",
              "3336       Manual  2nd Owner         1999             420.0  \n",
              "4668       Manual  2nd Owner         2011             420.0  \n",
              "4948       Manual  1st Owner         2012             420.0  \n",
              "957        Manual  2nd Owner         2000             468.0  \n",
              "2204       Manual  1st Owner         2000             480.0  "
            ]
          },
          "execution_count": 305,
          "metadata": {},
          "output_type": "execute_result"
        }
      ],
      "source": [
        "df.sort_values(\"prices_in_dollar\", ascending=True).head()"
      ]
    },
    {
      "cell_type": "markdown",
      "metadata": {
        "id": "YZgLaEfrw9hw"
      },
      "source": [
        "**Eliminacion de columna \"car_prices_in_rupee\"**"
      ]
    },
    {
      "cell_type": "code",
      "execution_count": null,
      "metadata": {
        "id": "-35ww4P4w9hw"
      },
      "outputs": [],
      "source": [
        "df.drop(\"car_prices_in_rupee\", axis=1, inplace=True)"
      ]
    },
    {
      "cell_type": "markdown",
      "metadata": {
        "id": "5eE8Qlrjw9hx"
      },
      "source": [
        "**Transformacion de columna \"ownership\" a numero**"
      ]
    },
    {
      "cell_type": "markdown",
      "metadata": {
        "id": "T1pxjCahw9hx"
      },
      "source": [
        "Tras inspeccion de columna \"ownership\", se decide eliminar registros cuyos valores sean \"0th Owner\""
      ]
    },
    {
      "cell_type": "code",
      "execution_count": null,
      "metadata": {
        "scrolled": true,
        "id": "p3Sb35pmw9hx",
        "outputId": "c907ed69-12aa-4aa3-818a-bf1fbb71f113"
      },
      "outputs": [
        {
          "data": {
            "text/html": [
              "<div>\n",
              "<style scoped>\n",
              "    .dataframe tbody tr th:only-of-type {\n",
              "        vertical-align: middle;\n",
              "    }\n",
              "\n",
              "    .dataframe tbody tr th {\n",
              "        vertical-align: top;\n",
              "    }\n",
              "\n",
              "    .dataframe thead th {\n",
              "        text-align: right;\n",
              "    }\n",
              "</style>\n",
              "<table border=\"1\" class=\"dataframe\">\n",
              "  <thead>\n",
              "    <tr style=\"text-align: right;\">\n",
              "      <th></th>\n",
              "      <th>car_name</th>\n",
              "      <th>kms_driven</th>\n",
              "      <th>fuel_type</th>\n",
              "      <th>transmission</th>\n",
              "      <th>ownership</th>\n",
              "      <th>manufacture</th>\n",
              "      <th>prices_in_dollar</th>\n",
              "    </tr>\n",
              "  </thead>\n",
              "  <tbody>\n",
              "  </tbody>\n",
              "</table>\n",
              "</div>"
            ],
            "text/plain": [
              "Empty DataFrame\n",
              "Columns: [car_name, kms_driven, fuel_type, transmission, ownership, manufacture, prices_in_dollar]\n",
              "Index: []"
            ]
          },
          "execution_count": 326,
          "metadata": {},
          "output_type": "execute_result"
        }
      ],
      "source": [
        "df = df[df[\"ownership\"] != \"0th Owner\"]"
      ]
    },
    {
      "cell_type": "code",
      "execution_count": null,
      "metadata": {
        "scrolled": true,
        "id": "Bcb4ATRtw9hy",
        "outputId": "9374dc80-5a10-4686-98cb-6d643f115d0f"
      },
      "outputs": [
        {
          "data": {
            "text/plain": [
              "array(['1st Owner', '2nd Owner', '3rd Owner', '4th Owner', '5th Owner'],\n",
              "      dtype=object)"
            ]
          },
          "execution_count": 325,
          "metadata": {},
          "output_type": "execute_result"
        }
      ],
      "source": [
        "df[\"ownership\"].unique()"
      ]
    },
    {
      "cell_type": "code",
      "execution_count": null,
      "metadata": {
        "id": "hvut8wG0w9hz",
        "outputId": "b0f787a6-f61d-4a67-edf2-895e48c0e039"
      },
      "outputs": [
        {
          "data": {
            "text/plain": [
              "1    3736\n",
              "2    1314\n",
              "3     359\n",
              "4      84\n",
              "5      12\n",
              "Name: ownership, dtype: int64"
            ]
          },
          "execution_count": 333,
          "metadata": {},
          "output_type": "execute_result"
        }
      ],
      "source": [
        "df[\"ownership\"].value_counts()"
      ]
    },
    {
      "cell_type": "code",
      "execution_count": null,
      "metadata": {
        "id": "8nmZCqPlw9h0",
        "outputId": "32e3a7b1-7694-4583-8fcb-87d467ad74d7"
      },
      "outputs": [
        {
          "name": "stderr",
          "output_type": "stream",
          "text": [
            "<ipython-input-332-41653b18654e>:1: SettingWithCopyWarning: \n",
            "A value is trying to be set on a copy of a slice from a DataFrame\n",
            "\n",
            "See the caveats in the documentation: https://pandas.pydata.org/pandas-docs/stable/user_guide/indexing.html#returning-a-view-versus-a-copy\n",
            "  df[\"ownership\"].replace({\"1st Owner\":1,\"2nd Owner\":2,\"3rd Owner\":3,\"4th Owner\":4,\"5th Owner\":5}, inplace=True)\n"
          ]
        }
      ],
      "source": [
        "df[\"ownership\"].replace({\"1st Owner\":1,\"2nd Owner\":2,\"3rd Owner\":3,\"4th Owner\":4,\"5th Owner\":5}, inplace=True)"
      ]
    },
    {
      "cell_type": "markdown",
      "metadata": {
        "id": "e08edSTGw9h1"
      },
      "source": [
        "# Visualizaciones"
      ]
    },
    {
      "cell_type": "code",
      "execution_count": null,
      "metadata": {
        "scrolled": true,
        "id": "eP8s6pXSw9h1",
        "outputId": "6a31ce84-118c-43de-ed86-587060b832e2"
      },
      "outputs": [
        {
          "data": {
            "text/plain": [
              "<AxesSubplot:ylabel='Frequency'>"
            ]
          },
          "execution_count": 347,
          "metadata": {},
          "output_type": "execute_result"
        },
        {
          "data": {
            "image/png": "[encoded data removed]",
            "text/plain": [
              "<Figure size 432x288 with 1 Axes>"
            ]
          },
          "metadata": {
            "needs_background": "light"
          },
          "output_type": "display_data"
        }
      ],
      "source": [
        "df[\"prices_in_dollar\"].plot(kind=\"hist\",alpha=.5,color=\"green\")"
      ]
    },
    {
      "cell_type": "markdown",
      "metadata": {
        "id": "zTIO8gD1w9h2"
      },
      "source": [
        "- Es posible apreciar que la mayoria de vehiculos esta bajo los 25 mil dolares"
      ]
    },
    {
      "cell_type": "code",
      "execution_count": null,
      "metadata": {
        "scrolled": true,
        "id": "6_g4LPKPw9h2",
        "outputId": "f295562f-28ae-49c9-c21d-8bb188fdf2c7"
      },
      "outputs": [
        {
          "data": {
            "text/plain": [
              "<AxesSubplot:ylabel='Frequency'>"
            ]
          },
          "execution_count": 348,
          "metadata": {},
          "output_type": "execute_result"
        },
        {
          "data": {
            "image/png": "[encoded data removed]",
            "text/plain": [
              "<Figure size 432x288 with 1 Axes>"
            ]
          },
          "metadata": {
            "needs_background": "light"
          },
          "output_type": "display_data"
        }
      ],
      "source": [
        "df[\"kms_driven\"].plot(kind=\"hist\",alpha=.5,color=\"green\")"
      ]
    },
    {
      "cell_type": "markdown",
      "metadata": {
        "id": "fnfuuAwQw9h3"
      },
      "source": [
        "- La mayoria tambien esta en un rango de kilometraje menor a los 100 mil kms"
      ]
    },
    {
      "cell_type": "code",
      "execution_count": null,
      "metadata": {
        "id": "eWBCeWsPw9h3",
        "outputId": "29ae40e4-f7b8-4cd2-eef3-28720d06a31d"
      },
      "outputs": [
        {
          "data": {
            "text/plain": [
              "<AxesSubplot:ylabel='Frequency'>"
            ]
          },
          "execution_count": 349,
          "metadata": {},
          "output_type": "execute_result"
        },
        {
          "data": {
            "image/png": "[encoded data removed]",
            "text/plain": [
              "<Figure size 432x288 with 1 Axes>"
            ]
          },
          "metadata": {
            "needs_background": "light"
          },
          "output_type": "display_data"
        }
      ],
      "source": [
        "df[\"manufacture\"].plot(kind=\"hist\",alpha=.5,color=\"green\")"
      ]
    },
    {
      "cell_type": "markdown",
      "metadata": {
        "id": "tNfBrHzDw9h3"
      },
      "source": [
        "- Del universo de autos, se puede apreciar con son en su mayoria autos relativamente nuevos. de menos de 7 anios"
      ]
    },
    {
      "cell_type": "code",
      "execution_count": null,
      "metadata": {
        "id": "Uzi3KiaLw9h4",
        "outputId": "9b64c833-fb4d-4662-8f0c-ffdb54e126f7"
      },
      "outputs": [
        {
          "data": {
            "text/plain": [
              "<AxesSubplot:>"
            ]
          },
          "execution_count": 355,
          "metadata": {},
          "output_type": "execute_result"
        },
        {
          "data": {
            "image/png": "[encoded data removed]",
            "text/plain": [
              "<Figure size 432x288 with 1 Axes>"
            ]
          },
          "metadata": {
            "needs_background": "light"
          },
          "output_type": "display_data"
        }
      ],
      "source": [
        "df[\"fuel_type\"].value_counts().plot(kind=\"bar\",alpha=.5,color=\"green\")"
      ]
    },
    {
      "cell_type": "code",
      "execution_count": null,
      "metadata": {
        "id": "_br1Kad2w9h4",
        "outputId": "8a20e425-a6d5-4102-e058-4986ed63ce3f"
      },
      "outputs": [
        {
          "data": {
            "text/plain": [
              "<AxesSubplot:>"
            ]
          },
          "execution_count": 356,
          "metadata": {},
          "output_type": "execute_result"
        },
        {
          "data": {
            "image/png": "[encoded data removed]",
            "text/plain": [
              "<Figure size 432x288 with 1 Axes>"
            ]
          },
          "metadata": {
            "needs_background": "light"
          },
          "output_type": "display_data"
        }
      ],
      "source": [
        "df[\"transmission\"].value_counts().plot(kind=\"bar\",alpha=.5,color=\"green\")"
      ]
    },
    {
      "cell_type": "code",
      "execution_count": null,
      "metadata": {
        "id": "FIS9ak-5w9h4",
        "outputId": "181d9f59-06b6-479d-c517-fd7f585ee566"
      },
      "outputs": [
        {
          "data": {
            "text/plain": [
              "<AxesSubplot:>"
            ]
          },
          "execution_count": 357,
          "metadata": {},
          "output_type": "execute_result"
        },
        {
          "data": {
            "image/png": "[encoded data removed]",
            "text/plain": [
              "<Figure size 432x288 with 1 Axes>"
            ]
          },
          "metadata": {
            "needs_background": "light"
          },
          "output_type": "display_data"
        }
      ],
      "source": [
        "df[\"ownership\"].value_counts().plot(kind=\"bar\",alpha=.5,color=\"green\")"
      ]
    },
    {
      "cell_type": "markdown",
      "metadata": {
        "id": "QC36lLO1w9h5"
      },
      "source": [
        "**A continuacion se muestra la correlacion de las caracteristicas del conjunto de dato**"
      ]
    },
    {
      "cell_type": "code",
      "execution_count": null,
      "metadata": {
        "id": "l6QTo-tlw9h5",
        "outputId": "24a24213-47b0-4713-806a-9f8427cc5d89"
      },
      "outputs": [
        {
          "name": "stderr",
          "output_type": "stream",
          "text": [
            "<ipython-input-361-4ec21fe4b624>:1: FutureWarning: The default value of numeric_only in DataFrame.corr is deprecated. In a future version, it will default to False. Select only valid columns or specify the value of numeric_only to silence this warning.\n",
            "  corr = df.corr()\n"
          ]
        },
        {
          "data": {
            "image/png": "[encoded data removed]",
            "text/plain": [
              "<Figure size 432x288 with 2 Axes>"
            ]
          },
          "metadata": {
            "needs_background": "light"
          },
          "output_type": "display_data"
        }
      ],
      "source": [
        "corr = df.corr()\n",
        "heatmap = sns.heatmap(corr, annot=True,)"
      ]
    },
    {
      "cell_type": "markdown",
      "metadata": {
        "id": "gulcJ3DBw9h5"
      },
      "source": [
        "**De este heatmap podemos sugerir que:**\n",
        "- existe una correlacion indirecta entre kms_driven y precio. mientras mas kms el precio es menor.\n",
        "- existe una correlacion indirecta entre ownership y precio. mientras mas duenios, menor es el precio.\n",
        "- existe una correlacion directa entre el anio del vehiculo y su precio.\n",
        "\n"
      ]
    },
    {
      "cell_type": "code",
      "execution_count": null,
      "metadata": {
        "id": "gQQlCcSiw9h6",
        "outputId": "ea906ce4-9584-42c1-c436-65f6835e096a"
      },
      "outputs": [
        {
          "name": "stderr",
          "output_type": "stream",
          "text": [
            "C:\\Users\\felip\\anaconda3\\lib\\site-packages\\seaborn\\categorical.py:82: FutureWarning: iteritems is deprecated and will be removed in a future version. Use .items instead.\n",
            "  plot_data = [np.asarray(s, float) for k, s in iter_data]\n"
          ]
        },
        {
          "data": {
            "text/plain": [
              "<AxesSubplot:>"
            ]
          },
          "execution_count": 367,
          "metadata": {},
          "output_type": "execute_result"
        },
        {
          "data": {
            "image/png": "[encoded data removed]",
            "text/plain": [
              "<Figure size 432x288 with 1 Axes>"
            ]
          },
          "metadata": {
            "needs_background": "light"
          },
          "output_type": "display_data"
        }
      ],
      "source": [
        "sns.boxplot(x=\"kms_drive\", y=data=df)"
      ]
    }
  ],
  "metadata": {
    "colab": {
      "provenance": [],
      "include_colab_link": true
    },
    "kernelspec": {
      "display_name": "Python 3",
      "language": "python",
      "name": "python3"
    },
    "language_info": {
      "codemirror_mode": {
        "name": "ipython",
        "version": 3
      },
      "file_extension": ".py",
      "mimetype": "text/x-python",
      "name": "python",
      "nbconvert_exporter": "python",
      "pygments_lexer": "ipython3",
      "version": "3.8.5"
    }
  },
  "nbformat": 4,
  "nbformat_minor": 0
}